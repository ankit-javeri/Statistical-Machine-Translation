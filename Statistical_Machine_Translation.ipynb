{
 "cells": [
  {
   "cell_type": "markdown",
   "metadata": {
    "id": "REHgIlISZ1x7"
   },
   "source": [
    "<h1> Statistical Machine Translation </h1>"
   ]
  },
  {
   "cell_type": "code",
   "execution_count": 3,
   "metadata": {},
   "outputs": [
    {
     "name": "stdout",
     "output_type": "stream",
     "text": [
      "Collecting pipreqs"
     ]
    },
    {
     "name": "stderr",
     "output_type": "stream",
     "text": [
      "WARNING: You are using pip version 20.2.3; however, version 21.2.1 is available.\n",
      "You should consider upgrading via the 'g:\\data science projects\\msc final sem project\\my_venv\\scripts\\python.exe -m pip install --upgrade pip' command.\n"
     ]
    },
    {
     "name": "stdout",
     "output_type": "stream",
     "text": [
      "\n",
      "  Downloading pipreqs-0.4.10-py2.py3-none-any.whl (25 kB)\n",
      "Collecting yarg\n",
      "  Downloading yarg-0.1.9-py2.py3-none-any.whl (19 kB)\n",
      "Collecting docopt\n",
      "  Downloading docopt-0.6.2.tar.gz (25 kB)\n",
      "Collecting requests\n",
      "  Using cached requests-2.26.0-py2.py3-none-any.whl (62 kB)\n",
      "Collecting idna<4,>=2.5; python_version >= \"3\"\n",
      "  Using cached idna-3.2-py3-none-any.whl (59 kB)\n",
      "Collecting urllib3<1.27,>=1.21.1\n",
      "  Using cached urllib3-1.26.6-py2.py3-none-any.whl (138 kB)\n",
      "Collecting charset-normalizer~=2.0.0; python_version >= \"3\"\n",
      "  Using cached charset_normalizer-2.0.3-py3-none-any.whl (35 kB)\n",
      "Collecting certifi>=2017.4.17\n",
      "  Using cached certifi-2021.5.30-py2.py3-none-any.whl (145 kB)\n",
      "Using legacy 'setup.py install' for docopt, since package 'wheel' is not installed.\n",
      "Installing collected packages: idna, urllib3, charset-normalizer, certifi, requests, yarg, docopt, pipreqs\n",
      "    Running setup.py install for docopt: started\n",
      "    Running setup.py install for docopt: finished with status 'done'\n",
      "Successfully installed certifi-2021.5.30 charset-normalizer-2.0.3 docopt-0.6.2 idna-3.2 pipreqs-0.4.10 requests-2.26.0 urllib3-1.26.6 yarg-0.1.9\n"
     ]
    }
   ],
   "source": [
    "!pip install pipreqs"
   ]
  },
  {
   "cell_type": "code",
   "execution_count": 1,
   "metadata": {
    "colab": {
     "base_uri": "https://localhost:8080/"
    },
    "id": "u_15EWmdRsZX",
    "outputId": "be5b16d2-1cbe-4588-e939-6bef3724a61d",
    "scrolled": true
   },
   "outputs": [
    {
     "name": "stdout",
     "output_type": "stream",
     "text": [
      "Drive already mounted at /content/drive; to attempt to forcibly remount, call drive.mount(\"/content/drive\", force_remount=True).\n"
     ]
    }
   ],
   "source": [
    "from google.colab import drive\n",
    "drive.mount('/content/drive')"
   ]
  },
  {
   "cell_type": "code",
   "execution_count": 1,
   "metadata": {
    "id": "amIThYBEcAeT"
   },
   "outputs": [],
   "source": [
    "import pandas as pd                  # data handling\n",
    "import numpy as np\n",
    "from tqdm import tqdm                # show progess bar\n",
    "import time                          # to time the preocess\n",
    "import matplotlib.pyplot as plt      # plotting graphs\n",
    "import re                            # regular expression\n",
    "from collections import OrderedDict  # used to convert dict to dataframe\n",
    "import joblib\n",
    "from math import log2, log\n",
    "from decimal import Decimal\n",
    "from tqdm import tqdm_notebook"
   ]
  },
  {
   "cell_type": "markdown",
   "metadata": {
    "heading_collapsed": true,
    "id": "k54qIcHLeT9Y"
   },
   "source": [
    "## Data Preprocessing "
   ]
  },
  {
   "cell_type": "markdown",
   "metadata": {
    "heading_collapsed": true,
    "hidden": true,
    "id": "pnRKx57qaofP"
   },
   "source": [
    "### Load the data"
   ]
  },
  {
   "cell_type": "markdown",
   "metadata": {
    "hidden": true,
    "id": "zC_n26JnZxoN"
   },
   "source": [
    "The original data parallel_corpus_french_english can be downloaded from [Europarl Parallel Corpus](https://www.statmt.org/europarl/) or [Click here](https://www.statmt.org/europarl/v7/fr-en.tgz) to download the zip file of 194MB.  "
   ]
  },
  {
   "cell_type": "code",
   "execution_count": 3,
   "metadata": {
    "hidden": true,
    "id": "XqCZD8B8eC17"
   },
   "outputs": [],
   "source": [
    "# Path of data\n",
    "path_en =\"/content/drive/MyDrive/Colab_Notebooks/DATA/europarl_fr-en/europarl-v7.fr-en.en\"\n",
    "path_fr =\"/content/drive/MyDrive/Colab_Notebooks/DATA/europarl_fr-en/europarl-v7.fr-en.fr\""
   ]
  },
  {
   "cell_type": "code",
   "execution_count": 4,
   "metadata": {
    "hidden": true,
    "id": "ujAFqj0wvUuA"
   },
   "outputs": [],
   "source": [
    "with open(path_fr,'r') as fr:\n",
    "  fr = fr.read()\n",
    "  \n",
    "with open(path_en,'r') as en:\n",
    "  en = en.read()"
   ]
  },
  {
   "cell_type": "markdown",
   "metadata": {
    "heading_collapsed": true,
    "hidden": true,
    "id": "6uWKJO0EBZxs"
   },
   "source": [
    "### Data Cleaning"
   ]
  },
  {
   "cell_type": "code",
   "execution_count": 5,
   "metadata": {
    "hidden": true,
    "id": "ZUDepQRFzpOc"
   },
   "outputs": [],
   "source": [
    "# Cleaning of corpus \n",
    "def preprocessing(corpus):\n",
    "  corpus = re.sub(r'[,?.{}()\\\";!@%$#]','', corpus)                  # Remove ,?.{}()\\\";!@%$# these symbols\n",
    "  corpus = corpus.replace('[','').replace(']','')                   # Remove [] brackets\n",
    "  corpus = corpus.lower().strip().split(\"\\n\")                       # Split into sentences\n",
    "  return corpus"
   ]
  },
  {
   "cell_type": "code",
   "execution_count": 6,
   "metadata": {
    "hidden": true,
    "id": "Diaq9btYIRcQ"
   },
   "outputs": [],
   "source": [
    "fr = preprocessing(fr)\n",
    "en = preprocessing(en)"
   ]
  },
  {
   "cell_type": "code",
   "execution_count": 7,
   "metadata": {
    "colab": {
     "base_uri": "https://localhost:8080/"
    },
    "hidden": true,
    "id": "A-tGFlfrYIdu",
    "outputId": "59414b94-bc8f-48e4-9d69-4518fdbca253"
   },
   "outputs": [
    {
     "name": "stdout",
     "output_type": "stream",
     "text": [
      "2007723 2007723\n"
     ]
    }
   ],
   "source": [
    "# Number of Sentences\n",
    "print(len(fr),len(en))"
   ]
  },
  {
   "cell_type": "code",
   "execution_count": 8,
   "metadata": {
    "colab": {
     "base_uri": "https://localhost:8080/"
    },
    "hidden": true,
    "id": "MlimHBxkYp-9",
    "outputId": "0ad2b2a0-56ae-42b3-cbdf-eeee70ba4511"
   },
   "outputs": [
    {
     "name": "stdout",
     "output_type": "stream",
     "text": [
      "<class 'list'> <class 'list'>\n"
     ]
    }
   ],
   "source": [
    "# Class of data\n",
    "print(type(fr),type(en))"
   ]
  },
  {
   "cell_type": "code",
   "execution_count": 9,
   "metadata": {
    "hidden": true,
    "id": "si0iUpdyYf7E"
   },
   "outputs": [],
   "source": [
    "# Concatinate\n",
    "df_list = list(zip(fr,en))"
   ]
  },
  {
   "cell_type": "code",
   "execution_count": 10,
   "metadata": {
    "hidden": true,
    "id": "_F1eGEmmaFxe"
   },
   "outputs": [],
   "source": [
    "# Convert to Dataframe\n",
    "fr_en = pd.DataFrame(df_list,columns=['French','English'])"
   ]
  },
  {
   "cell_type": "code",
   "execution_count": 11,
   "metadata": {
    "colab": {
     "base_uri": "https://localhost:8080/"
    },
    "hidden": true,
    "id": "egdV4KcimKal",
    "outputId": "f1af6986-9b4a-4646-dad8-36c37f6561c4"
   },
   "outputs": [
    {
     "data": {
      "text/plain": [
       "['French', 'English']"
      ]
     },
     "execution_count": 11,
     "metadata": {
      "tags": []
     },
     "output_type": "execute_result"
    }
   ],
   "source": [
    "list(fr_en.columns.values)"
   ]
  },
  {
   "cell_type": "code",
   "execution_count": 12,
   "metadata": {
    "colab": {
     "base_uri": "https://localhost:8080/",
     "height": 204
    },
    "hidden": true,
    "id": "Q2edpnNkg1hf",
    "outputId": "7e821cb4-2580-4054-b015-478b05bae4c2"
   },
   "outputs": [
    {
     "data": {
      "text/html": [
       "<div>\n",
       "<style scoped>\n",
       "    .dataframe tbody tr th:only-of-type {\n",
       "        vertical-align: middle;\n",
       "    }\n",
       "\n",
       "    .dataframe tbody tr th {\n",
       "        vertical-align: top;\n",
       "    }\n",
       "\n",
       "    .dataframe thead th {\n",
       "        text-align: right;\n",
       "    }\n",
       "</style>\n",
       "<table border=\"1\" class=\"dataframe\">\n",
       "  <thead>\n",
       "    <tr style=\"text-align: right;\">\n",
       "      <th></th>\n",
       "      <th>French</th>\n",
       "      <th>English</th>\n",
       "    </tr>\n",
       "  </thead>\n",
       "  <tbody>\n",
       "    <tr>\n",
       "      <th>0</th>\n",
       "      <td>reprise de la session</td>\n",
       "      <td>resumption of the session</td>\n",
       "    </tr>\n",
       "    <tr>\n",
       "      <th>1</th>\n",
       "      <td>je déclare reprise la session du parlement eur...</td>\n",
       "      <td>i declare resumed the session of the european ...</td>\n",
       "    </tr>\n",
       "    <tr>\n",
       "      <th>2</th>\n",
       "      <td>comme vous avez pu le constater le grand bogue...</td>\n",
       "      <td>although as you will have seen the dreaded 'mi...</td>\n",
       "    </tr>\n",
       "    <tr>\n",
       "      <th>3</th>\n",
       "      <td>vous avez souhaité un débat à ce sujet dans le...</td>\n",
       "      <td>you have requested a debate on this subject in...</td>\n",
       "    </tr>\n",
       "    <tr>\n",
       "      <th>4</th>\n",
       "      <td>en attendant je souhaiterais comme un certain ...</td>\n",
       "      <td>in the meantime i should like to observe a min...</td>\n",
       "    </tr>\n",
       "  </tbody>\n",
       "</table>\n",
       "</div>"
      ],
      "text/plain": [
       "                                              French                                            English\n",
       "0                              reprise de la session                          resumption of the session\n",
       "1  je déclare reprise la session du parlement eur...  i declare resumed the session of the european ...\n",
       "2  comme vous avez pu le constater le grand bogue...  although as you will have seen the dreaded 'mi...\n",
       "3  vous avez souhaité un débat à ce sujet dans le...  you have requested a debate on this subject in...\n",
       "4  en attendant je souhaiterais comme un certain ...  in the meantime i should like to observe a min..."
      ]
     },
     "execution_count": 12,
     "metadata": {
      "tags": []
     },
     "output_type": "execute_result"
    }
   ],
   "source": [
    "# View Dataframe\n",
    "fr_en.head()"
   ]
  },
  {
   "cell_type": "markdown",
   "metadata": {
    "heading_collapsed": true,
    "hidden": true,
    "id": "AEGNRXO4iObs"
   },
   "source": [
    "### Analysis of French & English sentences"
   ]
  },
  {
   "cell_type": "code",
   "execution_count": 13,
   "metadata": {
    "hidden": true,
    "id": "BrANxsxceFji"
   },
   "outputs": [],
   "source": [
    "fr_en[\"French_count\"] = fr_en[\"French\"].str.split().str.len()"
   ]
  },
  {
   "cell_type": "code",
   "execution_count": 14,
   "metadata": {
    "hidden": true,
    "id": "UV4hw8AKSGqC"
   },
   "outputs": [],
   "source": [
    "fr_en[\"English_count\"] = fr_en[\"English\"].str.split().str.len()"
   ]
  },
  {
   "cell_type": "code",
   "execution_count": 15,
   "metadata": {
    "colab": {
     "base_uri": "https://localhost:8080/",
     "height": 204
    },
    "hidden": true,
    "id": "_m1HDrP9e6S7",
    "outputId": "f9fdaa32-cb75-4a03-b681-6da5aa20260f"
   },
   "outputs": [
    {
     "data": {
      "text/html": [
       "<div>\n",
       "<style scoped>\n",
       "    .dataframe tbody tr th:only-of-type {\n",
       "        vertical-align: middle;\n",
       "    }\n",
       "\n",
       "    .dataframe tbody tr th {\n",
       "        vertical-align: top;\n",
       "    }\n",
       "\n",
       "    .dataframe thead th {\n",
       "        text-align: right;\n",
       "    }\n",
       "</style>\n",
       "<table border=\"1\" class=\"dataframe\">\n",
       "  <thead>\n",
       "    <tr style=\"text-align: right;\">\n",
       "      <th></th>\n",
       "      <th>French</th>\n",
       "      <th>English</th>\n",
       "      <th>French_count</th>\n",
       "      <th>English_count</th>\n",
       "    </tr>\n",
       "  </thead>\n",
       "  <tbody>\n",
       "    <tr>\n",
       "      <th>0</th>\n",
       "      <td>reprise de la session</td>\n",
       "      <td>resumption of the session</td>\n",
       "      <td>4</td>\n",
       "      <td>4</td>\n",
       "    </tr>\n",
       "    <tr>\n",
       "      <th>1</th>\n",
       "      <td>je déclare reprise la session du parlement eur...</td>\n",
       "      <td>i declare resumed the session of the european ...</td>\n",
       "      <td>33</td>\n",
       "      <td>38</td>\n",
       "    </tr>\n",
       "    <tr>\n",
       "      <th>2</th>\n",
       "      <td>comme vous avez pu le constater le grand bogue...</td>\n",
       "      <td>although as you will have seen the dreaded 'mi...</td>\n",
       "      <td>37</td>\n",
       "      <td>31</td>\n",
       "    </tr>\n",
       "    <tr>\n",
       "      <th>3</th>\n",
       "      <td>vous avez souhaité un débat à ce sujet dans le...</td>\n",
       "      <td>you have requested a debate on this subject in...</td>\n",
       "      <td>19</td>\n",
       "      <td>19</td>\n",
       "    </tr>\n",
       "    <tr>\n",
       "      <th>4</th>\n",
       "      <td>en attendant je souhaiterais comme un certain ...</td>\n",
       "      <td>in the meantime i should like to observe a min...</td>\n",
       "      <td>38</td>\n",
       "      <td>40</td>\n",
       "    </tr>\n",
       "  </tbody>\n",
       "</table>\n",
       "</div>"
      ],
      "text/plain": [
       "                                              French  ... English_count\n",
       "0                              reprise de la session  ...             4\n",
       "1  je déclare reprise la session du parlement eur...  ...            38\n",
       "2  comme vous avez pu le constater le grand bogue...  ...            31\n",
       "3  vous avez souhaité un débat à ce sujet dans le...  ...            19\n",
       "4  en attendant je souhaiterais comme un certain ...  ...            40\n",
       "\n",
       "[5 rows x 4 columns]"
      ]
     },
     "execution_count": 15,
     "metadata": {
      "tags": []
     },
     "output_type": "execute_result"
    }
   ],
   "source": [
    "fr_en.head()"
   ]
  },
  {
   "cell_type": "code",
   "execution_count": 16,
   "metadata": {
    "colab": {
     "base_uri": "https://localhost:8080/",
     "height": 297
    },
    "hidden": true,
    "id": "n7V5U3AUgSqB",
    "outputId": "59d9c760-bff2-4a56-e2b6-caba5fccc271"
   },
   "outputs": [
    {
     "data": {
      "text/html": [
       "<div>\n",
       "<style scoped>\n",
       "    .dataframe tbody tr th:only-of-type {\n",
       "        vertical-align: middle;\n",
       "    }\n",
       "\n",
       "    .dataframe tbody tr th {\n",
       "        vertical-align: top;\n",
       "    }\n",
       "\n",
       "    .dataframe thead th {\n",
       "        text-align: right;\n",
       "    }\n",
       "</style>\n",
       "<table border=\"1\" class=\"dataframe\">\n",
       "  <thead>\n",
       "    <tr style=\"text-align: right;\">\n",
       "      <th></th>\n",
       "      <th>French_count</th>\n",
       "      <th>English_count</th>\n",
       "    </tr>\n",
       "  </thead>\n",
       "  <tbody>\n",
       "    <tr>\n",
       "      <th>count</th>\n",
       "      <td>2007723.0</td>\n",
       "      <td>2007723.0</td>\n",
       "    </tr>\n",
       "    <tr>\n",
       "      <th>mean</th>\n",
       "      <td>26.0</td>\n",
       "      <td>25.0</td>\n",
       "    </tr>\n",
       "    <tr>\n",
       "      <th>std</th>\n",
       "      <td>16.0</td>\n",
       "      <td>15.0</td>\n",
       "    </tr>\n",
       "    <tr>\n",
       "      <th>min</th>\n",
       "      <td>0.0</td>\n",
       "      <td>0.0</td>\n",
       "    </tr>\n",
       "    <tr>\n",
       "      <th>25%</th>\n",
       "      <td>15.0</td>\n",
       "      <td>14.0</td>\n",
       "    </tr>\n",
       "    <tr>\n",
       "      <th>50%</th>\n",
       "      <td>23.0</td>\n",
       "      <td>22.0</td>\n",
       "    </tr>\n",
       "    <tr>\n",
       "      <th>75%</th>\n",
       "      <td>34.0</td>\n",
       "      <td>33.0</td>\n",
       "    </tr>\n",
       "    <tr>\n",
       "      <th>max</th>\n",
       "      <td>693.0</td>\n",
       "      <td>668.0</td>\n",
       "    </tr>\n",
       "  </tbody>\n",
       "</table>\n",
       "</div>"
      ],
      "text/plain": [
       "       French_count  English_count\n",
       "count     2007723.0      2007723.0\n",
       "mean           26.0           25.0\n",
       "std            16.0           15.0\n",
       "min             0.0            0.0\n",
       "25%            15.0           14.0\n",
       "50%            23.0           22.0\n",
       "75%            34.0           33.0\n",
       "max           693.0          668.0"
      ]
     },
     "execution_count": 16,
     "metadata": {
      "tags": []
     },
     "output_type": "execute_result"
    }
   ],
   "source": [
    "# Summary of word counts\n",
    "round(fr_en.describe())"
   ]
  },
  {
   "cell_type": "code",
   "execution_count": 17,
   "metadata": {
    "colab": {
     "base_uri": "https://localhost:8080/",
     "height": 300
    },
    "hidden": true,
    "id": "olIDQBamdwDP",
    "outputId": "1b9ac900-3506-45af-9b33-08031fa4b926"
   },
   "outputs": [
    {
     "data": {
      "image/png": "[encoded data removed]",
      "text/plain": [
       "<Figure size 432x288 with 1 Axes>"
      ]
     },
     "metadata": {
      "needs_background": "light",
      "tags": []
     },
     "output_type": "display_data"
    }
   ],
   "source": [
    "fr = fr_en[\"French_count\"]\n",
    "en = fr_en[\"English_count\"]\n",
    "\n",
    "plt.plot(fr)\n",
    "plt.plot(en)\n",
    "plt.legend(labels=(\"French\",\"English\"))\n",
    "plt.xlabel(\"Sentences\")\n",
    "plt.ylabel(\"Number of Words\")\n",
    "plt.title(\"Length of Sentences\",fontsize = 20, fontweight = 5, color= 'white',backgroundcolor='violet')\n",
    "plt.show()"
   ]
  },
  {
   "cell_type": "code",
   "execution_count": 18,
   "metadata": {
    "colab": {
     "base_uri": "https://localhost:8080/",
     "height": 311
    },
    "hidden": true,
    "id": "oa7M2sTvd083",
    "outputId": "10cc785e-f929-48fa-8bcf-5795655187a5"
   },
   "outputs": [
    {
     "data": {
      "image/png": "[encoded data removed]",
      "text/plain": [
       "<Figure size 1008x360 with 2 Axes>"
      ]
     },
     "metadata": {
      "needs_background": "light",
      "tags": []
     },
     "output_type": "display_data"
    }
   ],
   "source": [
    "plt.subplots(figsize=(14,5))\n",
    "\n",
    "plt.subplot(1,2,1)   # Postion of 1st plot (row,column,index)\n",
    "plt.hist([fr,en],bins=30,density=True)\n",
    "plt.legend(labels=(\"French\",\"English\"))\n",
    "plt.xlabel(\"Length of Sentence\")\n",
    "plt.ylabel(\"Probability\")\n",
    "plt.title(\"Density of Length of Sentences\",fontsize = 20, fontweight = 5)\n",
    "\n",
    "plt.subplot(1,2,2)\n",
    "plt.boxplot([fr,en],vert=False,labels=(\"French\",\"English\"))\n",
    "plt.title(\"Boxplot of Length of Sentences\",fontsize = 20, fontweight = 5)\n",
    "plt.xlabel(\"Length of Sentence\")\n",
    "plt.tight_layout(4)\n",
    "plt.show()"
   ]
  },
  {
   "cell_type": "markdown",
   "metadata": {
    "hidden": true,
    "id": "0RuwZNqNg9zq"
   },
   "source": [
    "Graph shows that there are words with length zero. We will now have a look at them and analyze further."
   ]
  },
  {
   "cell_type": "markdown",
   "metadata": {
    "heading_collapsed": true,
    "hidden": true,
    "id": "l0nGTK1PggjP"
   },
   "source": [
    "### Analyzing partially missing sentences"
   ]
  },
  {
   "cell_type": "markdown",
   "metadata": {
    "heading_collapsed": true,
    "hidden": true,
    "id": "Fiw7cX5K2AYk"
   },
   "source": [
    "#### Delete blank rows"
   ]
  },
  {
   "cell_type": "code",
   "execution_count": 19,
   "metadata": {
    "colab": {
     "base_uri": "https://localhost:8080/"
    },
    "hidden": true,
    "id": "wI3-mq2FnxSg",
    "outputId": "ef6bf61f-e367-437d-9a77-4b66319fa4c8"
   },
   "outputs": [
    {
     "name": "stdout",
     "output_type": "stream",
     "text": [
      "French Sentences with \"0\" words : 4060\n",
      "English Sentences with \"0\" words : 3507\n"
     ]
    }
   ],
   "source": [
    "# Sentences with 0 words\n",
    "print('French Sentences with \"0\" words :',sum(fr_en['French_count']==0))\n",
    "print('English Sentences with \"0\" words :',sum(fr_en['English_count']==0))"
   ]
  },
  {
   "cell_type": "code",
   "execution_count": 20,
   "metadata": {
    "colab": {
     "base_uri": "https://localhost:8080/"
    },
    "hidden": true,
    "id": "75rOymOJoPdb",
    "outputId": "ef714632-0256-487d-a2c1-430d95e389c5"
   },
   "outputs": [
    {
     "name": "stdout",
     "output_type": "stream",
     "text": [
      "Both French & English Sententences with '0' words : 1520\n"
     ]
    }
   ],
   "source": [
    "# Sentences with 0 French & English words \n",
    "zeros_b = fr_en[(fr_en['French_count']==0) & (fr_en['English_count']==0)]\n",
    "print(\"Both French & English Sententences with '0' words :\",len(zeros_b))"
   ]
  },
  {
   "cell_type": "code",
   "execution_count": 21,
   "metadata": {
    "colab": {
     "base_uri": "https://localhost:8080/"
    },
    "hidden": true,
    "id": "FqUwQgEarZtC",
    "outputId": "f1f2048b-6dfe-4904-dd5e-3532916cfca8"
   },
   "outputs": [
    {
     "name": "stdout",
     "output_type": "stream",
     "text": [
      "4060 3507\n"
     ]
    }
   ],
   "source": [
    "zeros_fr = fr_en[fr_en['French_count']==0]\n",
    "zeros_en = fr_en[fr_en['English_count']==0]\n",
    "\n",
    "print(len(zeros_fr),len(zeros_en))"
   ]
  },
  {
   "cell_type": "code",
   "execution_count": 22,
   "metadata": {
    "colab": {
     "base_uri": "https://localhost:8080/",
     "height": 204
    },
    "hidden": true,
    "id": "aV6Fp3n0t8Ae",
    "outputId": "e8801d45-0925-4ad9-8f0e-8717072ccb44"
   },
   "outputs": [
    {
     "data": {
      "text/html": [
       "<div>\n",
       "<style scoped>\n",
       "    .dataframe tbody tr th:only-of-type {\n",
       "        vertical-align: middle;\n",
       "    }\n",
       "\n",
       "    .dataframe tbody tr th {\n",
       "        vertical-align: top;\n",
       "    }\n",
       "\n",
       "    .dataframe thead th {\n",
       "        text-align: right;\n",
       "    }\n",
       "</style>\n",
       "<table border=\"1\" class=\"dataframe\">\n",
       "  <thead>\n",
       "    <tr style=\"text-align: right;\">\n",
       "      <th></th>\n",
       "      <th>French</th>\n",
       "      <th>English</th>\n",
       "      <th>French_count</th>\n",
       "      <th>English_count</th>\n",
       "    </tr>\n",
       "  </thead>\n",
       "  <tbody>\n",
       "    <tr>\n",
       "      <th>549</th>\n",
       "      <td></td>\n",
       "      <td>the third objective is urban and rural develop...</td>\n",
       "      <td>0</td>\n",
       "      <td>16</td>\n",
       "    </tr>\n",
       "    <tr>\n",
       "      <th>1487</th>\n",
       "      <td></td>\n",
       "      <td>however this one would undoubtedly be one of t...</td>\n",
       "      <td>0</td>\n",
       "      <td>16</td>\n",
       "    </tr>\n",
       "    <tr>\n",
       "      <th>1815</th>\n",
       "      <td></td>\n",
       "      <td></td>\n",
       "      <td>0</td>\n",
       "      <td>0</td>\n",
       "    </tr>\n",
       "    <tr>\n",
       "      <th>1846</th>\n",
       "      <td></td>\n",
       "      <td></td>\n",
       "      <td>0</td>\n",
       "      <td>0</td>\n",
       "    </tr>\n",
       "    <tr>\n",
       "      <th>1852</th>\n",
       "      <td></td>\n",
       "      <td></td>\n",
       "      <td>0</td>\n",
       "      <td>0</td>\n",
       "    </tr>\n",
       "  </tbody>\n",
       "</table>\n",
       "</div>"
      ],
      "text/plain": [
       "     French  ... English_count\n",
       "549          ...            16\n",
       "1487         ...            16\n",
       "1815         ...             0\n",
       "1846         ...             0\n",
       "1852         ...             0\n",
       "\n",
       "[5 rows x 4 columns]"
      ]
     },
     "execution_count": 22,
     "metadata": {
      "tags": []
     },
     "output_type": "execute_result"
    }
   ],
   "source": [
    "zeros_fr.head()"
   ]
  },
  {
   "cell_type": "markdown",
   "metadata": {
    "heading_collapsed": true,
    "hidden": true,
    "id": "z47NzZ8GyUgl"
   },
   "source": [
    "#### At 549 - English sent is part of next row"
   ]
  },
  {
   "cell_type": "code",
   "execution_count": 23,
   "metadata": {
    "colab": {
     "base_uri": "https://localhost:8080/",
     "height": 103
    },
    "hidden": true,
    "id": "OhriU2NaujNJ",
    "outputId": "6bdf3ec6-ef83-4861-be34-962154add2dd"
   },
   "outputs": [
    {
     "data": {
      "application/vnd.google.colaboratory.intrinsic+json": {
       "type": "string"
      },
      "text/plain": [
       "\"en ce qui me concerne - compte tenu de l' idée que je me fais de la construction européenne et de la politique de développement régional en particulier - c' est une situation que je n' accepte pas et j' ai bien l' intention autant que je le pourrai avec votre appui de mettre l' ensemble des crédits dont j' ai la responsabilité au service de cette meilleure cohésion sociale humaine territoriale notamment pour qu' il n' y ait pas ce que j' ai appelé devant vous un jour une europe à deux vitesses une europe des beaux quartiers et une europe des banlieues pauvres\""
      ]
     },
     "execution_count": 23,
     "metadata": {
      "tags": []
     },
     "output_type": "execute_result"
    }
   ],
   "source": [
    "fr_en['French'].iloc[548]              # Correct"
   ]
  },
  {
   "cell_type": "code",
   "execution_count": 24,
   "metadata": {
    "colab": {
     "base_uri": "https://localhost:8080/",
     "height": 103
    },
    "hidden": true,
    "id": "ndd_7dMMur-J",
    "outputId": "f05dd923-8f4b-4956-e228-937555d3d3ac"
   },
   "outputs": [
    {
     "data": {
      "application/vnd.google.colaboratory.intrinsic+json": {
       "type": "string"
      },
      "text/plain": [
       "'as far as i am concerned - taking into account my own concept of the construction of europe and regional development policy in particular - this is a situation which i find unacceptable and i have every intention as far as possible with your support of dedicating all the appropriations for which i am responsible to this improved social human and territorial cohesion particularly in order to prevent what i once called in this house a two-speed europe a europe of wealthy districts but at the same time a europe of impoverished areas'"
      ]
     },
     "execution_count": 24,
     "metadata": {
      "tags": []
     },
     "output_type": "execute_result"
    }
   ],
   "source": [
    "fr_en['English'].iloc[548]             # Correct"
   ]
  },
  {
   "cell_type": "code",
   "execution_count": 25,
   "metadata": {
    "colab": {
     "base_uri": "https://localhost:8080/",
     "height": 35
    },
    "hidden": true,
    "id": "K_i15hgiuAn-",
    "outputId": "59ca43f5-409d-40c0-8285-b944daf387f8"
   },
   "outputs": [
    {
     "data": {
      "application/vnd.google.colaboratory.intrinsic+json": {
       "type": "string"
      },
      "text/plain": [
       "''"
      ]
     },
     "execution_count": 25,
     "metadata": {
      "tags": []
     },
     "output_type": "execute_result"
    }
   ],
   "source": [
    "fr_en['French'].iloc[549]"
   ]
  },
  {
   "cell_type": "code",
   "execution_count": 26,
   "metadata": {
    "colab": {
     "base_uri": "https://localhost:8080/",
     "height": 35
    },
    "hidden": true,
    "id": "xySyTAEFvOdo",
    "outputId": "f536ca29-d4d1-4950-e593-2cdb77d9dd66"
   },
   "outputs": [
    {
     "data": {
      "application/vnd.google.colaboratory.intrinsic+json": {
       "type": "string"
      },
      "text/plain": [
       "'the third objective is urban and rural development within the scope of a balanced territorial policy'"
      ]
     },
     "execution_count": 26,
     "metadata": {
      "tags": []
     },
     "output_type": "execute_result"
    }
   ],
   "source": [
    "fr_en['English'].iloc[549]      # translation below at french 550"
   ]
  },
  {
   "cell_type": "code",
   "execution_count": 27,
   "metadata": {
    "colab": {
     "base_uri": "https://localhost:8080/",
     "height": 52
    },
    "hidden": true,
    "id": "4iLXGhbEuLlA",
    "outputId": "3cb9ddee-4f05-4b4e-b3ae-12bec7b8d210"
   },
   "outputs": [
    {
     "data": {
      "application/vnd.google.colaboratory.intrinsic+json": {
       "type": "string"
      },
      "text/plain": [
       "\"le troisième objectif est celui du développement urbain et rural dans le cadre d' une politique territoriale équilibrée\""
      ]
     },
     "execution_count": 27,
     "metadata": {
      "tags": []
     },
     "output_type": "execute_result"
    }
   ],
   "source": [
    "fr_en['French'].iloc[550]"
   ]
  },
  {
   "cell_type": "code",
   "execution_count": 28,
   "metadata": {
    "colab": {
     "base_uri": "https://localhost:8080/",
     "height": 69
    },
    "hidden": true,
    "id": "WZrj9mxBumuy",
    "outputId": "c46738db-03d5-46fa-c1c3-d674eedcedc4"
   },
   "outputs": [
    {
     "data": {
      "application/vnd.google.colaboratory.intrinsic+json": {
       "type": "string"
      },
      "text/plain": [
       "'in fact the guidelines take two horizontal principles into account the first is rural development and let me say mrs schroedter that i am including in rural development the matter of sustainable transport an issue i have been involved in personally for a long time'"
      ]
     },
     "execution_count": 28,
     "metadata": {
      "tags": []
     },
     "output_type": "execute_result"
    }
   ],
   "source": [
    "fr_en['English'].iloc[550]               # at french 551"
   ]
  },
  {
   "cell_type": "code",
   "execution_count": 29,
   "metadata": {
    "colab": {
     "base_uri": "https://localhost:8080/",
     "height": 103
    },
    "hidden": true,
    "id": "WWMbqUIivZWY",
    "outputId": "ae60a62c-717b-4a71-9aba-049194b4ed4d"
   },
   "outputs": [
    {
     "data": {
      "application/vnd.google.colaboratory.intrinsic+json": {
       "type": "string"
      },
      "text/plain": [
       "\"par ailleurs les orientations prennent en considération deux principes horizontaux : le développement rural et madame le rapporteur j' inclus bien dans le développement rural la question des transports durables à laquelle je suis personnellement attaché depuis assez longtemps - notamment me souvenant du moment où j' étais dans mon pays ministre de l' environnement - et le deuxième principe est celui de l' égalité des chances en particulier entre les femmes et les hommes ainsi que la stratégie européenne pour l' emploi et le cadre de l' union économique et monétaire\""
      ]
     },
     "execution_count": 29,
     "metadata": {
      "tags": []
     },
     "output_type": "execute_result"
    }
   ],
   "source": [
    "fr_en['French'].iloc[551]"
   ]
  },
  {
   "cell_type": "code",
   "execution_count": 30,
   "metadata": {
    "colab": {
     "base_uri": "https://localhost:8080/",
     "height": 69
    },
    "hidden": true,
    "id": "OBvHLl9QxGI1",
    "outputId": "8c7367d4-434a-43e2-8fcd-1d43c616d0c6"
   },
   "outputs": [
    {
     "data": {
      "application/vnd.google.colaboratory.intrinsic+json": {
       "type": "string"
      },
      "text/plain": [
       "'i particularly remember the time when i was minister for the environment in my own country the second principle is that of equal opportunities particularly for men and women as well as the european strategy for employment and the context of economic and monetary union'"
      ]
     },
     "execution_count": 30,
     "metadata": {
      "tags": []
     },
     "output_type": "execute_result"
    }
   ],
   "source": [
    "fr_en['English'].iloc[551]                # at french 551"
   ]
  },
  {
   "cell_type": "markdown",
   "metadata": {
    "heading_collapsed": true,
    "hidden": true,
    "id": "wg_GjDl3ydD1"
   },
   "source": [
    "#### At 2006081 - English sent is part of previous row"
   ]
  },
  {
   "cell_type": "code",
   "execution_count": 31,
   "metadata": {
    "colab": {
     "base_uri": "https://localhost:8080/",
     "height": 137
    },
    "hidden": true,
    "id": "e9aqiyNQy_RM",
    "outputId": "86c8539a-7022-495b-bbb8-8d397ecdcffd"
   },
   "outputs": [
    {
     "data": {
      "application/vnd.google.colaboratory.intrinsic+json": {
       "type": "string"
      },
      "text/plain": [
       "\"le conflit largement entretenu de ces dernières semaines entre le parlement et le conseil ne doit pas nous faire oublier quelques questions essentielles : quant à l' aide octroyée à la province du kosovo on peut s' étonner que celle-ci ne soit pas conditionnée par le retour définitif à la paix ce qui n' est hélas pas le cas ainsi que le rappelle un récent rapport de l' osce  quant aux sommes allouées les membres de la commission des budgets ont assisté au fil des commissions à un véritable marchandage les institutions jonglant avec les millions d' euros sans que personne n' ait réellement pris la peine d' évaluer les besoins de la région chacun s' accordant à dire que le kosovo ne pouvait actuellement absorber de telles sommes équivalentes à la moitié de son pnb\""
      ]
     },
     "execution_count": 31,
     "metadata": {
      "tags": []
     },
     "output_type": "execute_result"
    }
   ],
   "source": [
    "fr_en['French'].iloc[2006080]"
   ]
  },
  {
   "cell_type": "code",
   "execution_count": 32,
   "metadata": {
    "colab": {
     "base_uri": "https://localhost:8080/",
     "height": 69
    },
    "hidden": true,
    "id": "h6m3pdDgzgEC",
    "outputId": "1e0640b8-a6ef-4043-de22-8e24d887178c"
   },
   "outputs": [
    {
     "data": {
      "application/vnd.google.colaboratory.intrinsic+json": {
       "type": "string"
      },
      "text/plain": [
       "'the conflict has been extensively discussed in recent weeks by parliament and the council but there are certain essential aspects which we must not forget with regard to the aid granted to kosovo it is surprising that this is not conditional on the definitive restoration of peace which has unfortunately not yet been achieved as indicated by a recent osce report'"
      ]
     },
     "execution_count": 32,
     "metadata": {
      "tags": []
     },
     "output_type": "execute_result"
    }
   ],
   "source": [
    "fr_en['English'].iloc[2006080]"
   ]
  },
  {
   "cell_type": "code",
   "execution_count": 33,
   "metadata": {
    "colab": {
     "base_uri": "https://localhost:8080/",
     "height": 35
    },
    "hidden": true,
    "id": "H6rKiwdGxMl5",
    "outputId": "422bf5f2-50bc-4ccc-c526-68da7ffb75c3"
   },
   "outputs": [
    {
     "data": {
      "application/vnd.google.colaboratory.intrinsic+json": {
       "type": "string"
      },
      "text/plain": [
       "''"
      ]
     },
     "execution_count": 33,
     "metadata": {
      "tags": []
     },
     "output_type": "execute_result"
    }
   ],
   "source": [
    "fr_en['French'].iloc[2006081]"
   ]
  },
  {
   "cell_type": "code",
   "execution_count": 34,
   "metadata": {
    "colab": {
     "base_uri": "https://localhost:8080/",
     "height": 52
    },
    "hidden": true,
    "id": "v5mPBg-HzkdC",
    "outputId": "8ebeba54-99b0-4253-f946-1ce763ad403c"
   },
   "outputs": [
    {
     "data": {
      "application/vnd.google.colaboratory.intrinsic+json": {
       "type": "string"
      },
      "text/plain": [
       "'as for the sums allocated the members of the committee on budgets have participated through the committees in some real bargaining'"
      ]
     },
     "execution_count": 34,
     "metadata": {
      "tags": []
     },
     "output_type": "execute_result"
    }
   ],
   "source": [
    "fr_en['English'].iloc[2006081]                 # This is part of 2006080"
   ]
  },
  {
   "cell_type": "code",
   "execution_count": 35,
   "metadata": {
    "colab": {
     "base_uri": "https://localhost:8080/",
     "height": 35
    },
    "hidden": true,
    "id": "fELeLFbHyxzN",
    "outputId": "6b42ac42-4b43-4611-9612-90fb1e3f8efd"
   },
   "outputs": [
    {
     "data": {
      "application/vnd.google.colaboratory.intrinsic+json": {
       "type": "string"
      },
      "text/plain": [
       "''"
      ]
     },
     "execution_count": 35,
     "metadata": {
      "tags": []
     },
     "output_type": "execute_result"
    }
   ],
   "source": [
    "fr_en['French'].iloc[2006082]"
   ]
  },
  {
   "cell_type": "code",
   "execution_count": 36,
   "metadata": {
    "colab": {
     "base_uri": "https://localhost:8080/",
     "height": 52
    },
    "hidden": true,
    "id": "SnFBUNQFzpGr",
    "outputId": "0dff1ee1-9bf9-4d52-9485-eab9373be624"
   },
   "outputs": [
    {
     "data": {
      "application/vnd.google.colaboratory.intrinsic+json": {
       "type": "string"
      },
      "text/plain": [
       "\"the institutions have juggled with millions of euros without anyone really taking the trouble to assess the region' s needs yet everyone agrees that kosovo could not actually absorb such sums which are equivalent to half its gnp\""
      ]
     },
     "execution_count": 36,
     "metadata": {
      "tags": []
     },
     "output_type": "execute_result"
    }
   ],
   "source": [
    "fr_en['English'].iloc[2006082]                  # This is part of 2006080"
   ]
  },
  {
   "cell_type": "code",
   "execution_count": 37,
   "metadata": {
    "colab": {
     "base_uri": "https://localhost:8080/",
     "height": 69
    },
    "hidden": true,
    "id": "kvi2T9JvzGml",
    "outputId": "b8276123-0db6-4253-b38a-3679c586ae92"
   },
   "outputs": [
    {
     "data": {
      "application/vnd.google.colaboratory.intrinsic+json": {
       "type": "string"
      },
      "text/plain": [
       "\"à ce titre on doit déplorer le manque de rigueur du commissaire chargé du budget qui interrogé par la commission des budgets s' est révélé incapable de donner une estimation chiffrée des montants nécessaires en euros mais uniquement en dollars\""
      ]
     },
     "execution_count": 37,
     "metadata": {
      "tags": []
     },
     "output_type": "execute_result"
    }
   ],
   "source": [
    "fr_en['French'].iloc[2006083]                   # Correct"
   ]
  },
  {
   "cell_type": "code",
   "execution_count": 38,
   "metadata": {
    "colab": {
     "base_uri": "https://localhost:8080/",
     "height": 69
    },
    "hidden": true,
    "id": "XkwRJHEnzrIy",
    "outputId": "9ff6fe6d-1aa1-4a85-fb87-fe94aa76d6f2"
   },
   "outputs": [
    {
     "data": {
      "application/vnd.google.colaboratory.intrinsic+json": {
       "type": "string"
      },
      "text/plain": [
       "'in this respect we must deplore the lack of rigour shown by the commissioner responsible for the budget when questioned by the committee on budgets he was incapable of estimating the amounts needed in euros and could only give these in dollars'"
      ]
     },
     "execution_count": 38,
     "metadata": {
      "tags": []
     },
     "output_type": "execute_result"
    }
   ],
   "source": [
    "fr_en['English'].iloc[2006083]                 # Correct"
   ]
  },
  {
   "cell_type": "code",
   "execution_count": 39,
   "metadata": {
    "hidden": true,
    "id": "aRAowbW6C98J"
   },
   "outputs": [],
   "source": [
    "df = fr_en.copy()"
   ]
  },
  {
   "cell_type": "code",
   "execution_count": 40,
   "metadata": {
    "hidden": true,
    "id": "4h6au6E_2Ku1"
   },
   "outputs": [],
   "source": [
    "def delete_zeros(df):\n",
    "  \n",
    "  fr_idx = df[df['French_count']==0].index.to_list()\n",
    "  \n",
    "  en_idx = df[df['English_count']==0].index.to_list()\n",
    "\n",
    "  fr_del = []\n",
    "  for id in fr_idx:                \n",
    "    fr_del.extend([id-1,id,id+1])\n",
    "\n",
    "  for id in en_idx:                \n",
    "    fr_del.extend([id-1,id,id+1])\n",
    "\n",
    "  id_del = list(set(fr_del))\n",
    "\n",
    "  return id_del"
   ]
  },
  {
   "cell_type": "code",
   "execution_count": 41,
   "metadata": {
    "colab": {
     "base_uri": "https://localhost:8080/"
    },
    "hidden": true,
    "id": "wfYzKdD1Aw6o",
    "outputId": "63d2212b-662e-4002-ec4b-6e2e371c097c"
   },
   "outputs": [
    {
     "name": "stdout",
     "output_type": "stream",
     "text": [
      "15705 <class 'list'>\n"
     ]
    }
   ],
   "source": [
    "# Collect indices of rows to be deleted.\n",
    "delete_rows = delete_zeros(df)\n",
    "print(len(delete_rows),type(delete_rows))"
   ]
  },
  {
   "cell_type": "code",
   "execution_count": 42,
   "metadata": {
    "hidden": true,
    "id": "bNFE8HpfN9Mp"
   },
   "outputs": [],
   "source": [
    "# Delete rows with given row indices.\n",
    "df.drop(index=delete_rows,inplace=True)"
   ]
  },
  {
   "cell_type": "markdown",
   "metadata": {
    "heading_collapsed": true,
    "hidden": true,
    "id": "ykaEF3mCbkeT"
   },
   "source": [
    "### Delete Duplicate rows"
   ]
  },
  {
   "cell_type": "code",
   "execution_count": 43,
   "metadata": {
    "colab": {
     "base_uri": "https://localhost:8080/"
    },
    "hidden": true,
    "id": "AzAIscLrjCGo",
    "outputId": "4d0a2063-ca9f-485c-bf2a-3bfdff614817"
   },
   "outputs": [
    {
     "name": "stdout",
     "output_type": "stream",
     "text": [
      "Number of duplicate rows : 39712\n"
     ]
    }
   ],
   "source": [
    "print(\"Number of duplicate rows :\",sum(df.duplicated()))"
   ]
  },
  {
   "cell_type": "code",
   "execution_count": 44,
   "metadata": {
    "hidden": true,
    "id": "otI5tGFveX1v"
   },
   "outputs": [],
   "source": [
    "# Observe duplicate rows\n",
    "duplicate = df[df.duplicated()]"
   ]
  },
  {
   "cell_type": "code",
   "execution_count": 45,
   "metadata": {
    "colab": {
     "base_uri": "https://localhost:8080/"
    },
    "hidden": true,
    "id": "ZnEfnFeujS7f",
    "outputId": "197e3159-46e6-4614-eafc-91b4aef6748d"
   },
   "outputs": [
    {
     "data": {
      "text/plain": [
       "13      madame la présidente c'est une motion de procé...\n",
       "294                                     le débat est clos\n",
       "295                  le vote aura lieu demain à 12 heures\n",
       "586                                     le débat est clos\n",
       "749                                     le débat est clos\n",
       "750                       le vote aura lieu demain à midi\n",
       "1450                 le vote aura lieu demain à 12 heures\n",
       "1714                 le vote aura lieu demain à 12 heures\n",
       "1735                    le parlement adopte la résolution\n",
       "1737                    le parlement adopte la résolution\n",
       "1739                    le parlement adopte la résolution\n",
       "1741                    le parlement adopte la résolution\n",
       "1743                    le parlement adopte la résolution\n",
       "2050                             ce n' est plus tolérable\n",
       "2053                             ce n' est plus tolérable\n",
       "2390                                    le débat est clos\n",
       "2785                               elle doit être visible\n",
       "2825                                    le débat est clos\n",
       "2976     la parole est à m patten au nom de la commission\n",
       "3466                                    le débat est clos\n",
       "Name: French, dtype: object"
      ]
     },
     "execution_count": 45,
     "metadata": {
      "tags": []
     },
     "output_type": "execute_result"
    }
   ],
   "source": [
    "duplicate['French'][:20]"
   ]
  },
  {
   "cell_type": "code",
   "execution_count": 46,
   "metadata": {
    "colab": {
     "base_uri": "https://localhost:8080/"
    },
    "hidden": true,
    "id": "glaM1ZrxkbLi",
    "outputId": "5afa86e2-692e-4553-8545-b656872f04ec"
   },
   "outputs": [
    {
     "data": {
      "text/plain": [
       "13                    madam president on a point of order\n",
       "294                                  the debate is closed\n",
       "295            the vote will take place tomorrow at 12 pm\n",
       "586                                  the debate is closed\n",
       "749                                  the debate is closed\n",
       "750            the vote will take place tomorrow at 12 pm\n",
       "1450           the vote will take place tomorrow at 12 pm\n",
       "1714           the vote will take place tomorrow at 12 pm\n",
       "1735                    parliament adopted the resolution\n",
       "1737                    parliament adopted the resolution\n",
       "1739                    parliament adopted the resolution\n",
       "1741                    parliament adopted the resolution\n",
       "1743                    parliament adopted the resolution\n",
       "2050                          this is no longer tolerable\n",
       "2053                          this is no longer tolerable\n",
       "2390                                 the debate is closed\n",
       "2785                                   it must be visible\n",
       "2825                            that concludes the debate\n",
       "2976    mr patten has the floor on behalf of the commi...\n",
       "3466                                 the debate is closed\n",
       "Name: English, dtype: object"
      ]
     },
     "execution_count": 46,
     "metadata": {
      "tags": []
     },
     "output_type": "execute_result"
    }
   ],
   "source": [
    "duplicate['English'][:20]"
   ]
  },
  {
   "cell_type": "code",
   "execution_count": 47,
   "metadata": {
    "hidden": true,
    "id": "FoKRehpbbv-D"
   },
   "outputs": [],
   "source": [
    "# Delete duplicated rows by keeping only the first occurence\n",
    "df.drop_duplicates(inplace=True,keep='first')"
   ]
  },
  {
   "cell_type": "markdown",
   "metadata": {
    "heading_collapsed": true,
    "hidden": true,
    "id": "hFwi_skAm6DF"
   },
   "source": [
    "### Delete sentences with words more than 80"
   ]
  },
  {
   "cell_type": "code",
   "execution_count": 48,
   "metadata": {
    "colab": {
     "base_uri": "https://localhost:8080/"
    },
    "hidden": true,
    "id": "Dh0tcqBwVxma",
    "outputId": "86be5798-9d8e-4984-e8b4-df75f891f7eb"
   },
   "outputs": [
    {
     "name": "stdout",
     "output_type": "stream",
     "text": [
      "Sentences with 200 or more words : 79\n"
     ]
    }
   ],
   "source": [
    "print(\"Sentences with 200 or more words :\",sum(df['French_count']>=200))"
   ]
  },
  {
   "cell_type": "code",
   "execution_count": 49,
   "metadata": {
    "colab": {
     "base_uri": "https://localhost:8080/"
    },
    "hidden": true,
    "id": "RsCJ4uCdg1DN",
    "outputId": "60b16b52-8b6f-4438-cf49-8121b9f5690a"
   },
   "outputs": [
    {
     "name": "stdout",
     "output_type": "stream",
     "text": [
      "French Sentences with 100 or more words : 4050\n",
      "English Sentences with 100 or more words : 3010\n"
     ]
    }
   ],
   "source": [
    "# Sentences with 100 or more words\n",
    "print('French Sentences with 100 or more words :',sum(df['French_count']>=100))\n",
    "print('English Sentences with 100 or more words :',sum(df['English_count']>=100))"
   ]
  },
  {
   "cell_type": "code",
   "execution_count": 50,
   "metadata": {
    "colab": {
     "base_uri": "https://localhost:8080/"
    },
    "hidden": true,
    "id": "7KIsPKy8VaMw",
    "outputId": "47f4221f-4db8-4427-f3be-eb1485b03040"
   },
   "outputs": [
    {
     "name": "stdout",
     "output_type": "stream",
     "text": [
      "French Sentences with 80 or more words : 15414\n",
      "English Sentences with 80 or more words : 11840\n"
     ]
    }
   ],
   "source": [
    "# Sentences with 75 or more words\n",
    "print('French Sentences with 80 or more words :',sum(df['French_count']>=80))\n",
    "print('English Sentences with 80 or more words :',sum(df['English_count']>=80))"
   ]
  },
  {
   "cell_type": "code",
   "execution_count": 51,
   "metadata": {
    "hidden": true,
    "id": "lmjA4oaBS6-6"
   },
   "outputs": [],
   "source": [
    "# Delete sentences with words more than 100 \n",
    "df = df[df['French_count']<80]"
   ]
  },
  {
   "cell_type": "markdown",
   "metadata": {
    "heading_collapsed": true,
    "hidden": true,
    "id": "SXhVD90ANdAR"
   },
   "source": [
    "### Check our cleaned corpora & take sample of 1000 sentences."
   ]
  },
  {
   "cell_type": "code",
   "execution_count": 52,
   "metadata": {
    "colab": {
     "base_uri": "https://localhost:8080/"
    },
    "hidden": true,
    "id": "QmYIruJ2PJoS",
    "outputId": "2ec9bdd3-aacd-4fb8-fe38-6847ff286dc9"
   },
   "outputs": [
    {
     "name": "stdout",
     "output_type": "stream",
     "text": [
      "Number of Sentences in cleaned corpus : 1936892\n"
     ]
    }
   ],
   "source": [
    "print(\"Number of Sentences in cleaned corpus :\",len(df))"
   ]
  },
  {
   "cell_type": "code",
   "execution_count": 53,
   "metadata": {
    "colab": {
     "base_uri": "https://localhost:8080/",
     "height": 300
    },
    "hidden": true,
    "id": "jtjHVGo3PeOq",
    "outputId": "14060cde-f734-4721-fff8-f9ec928f3ee7"
   },
   "outputs": [
    {
     "data": {
      "image/png": "[encoded data removed]",
      "text/plain": [
       "<Figure size 432x288 with 1 Axes>"
      ]
     },
     "metadata": {
      "needs_background": "light",
      "tags": []
     },
     "output_type": "display_data"
    }
   ],
   "source": [
    "fr = df[\"French_count\"]\n",
    "en = df[\"English_count\"]\n",
    "\n",
    "plt.plot(fr)\n",
    "plt.plot(en)\n",
    "plt.legend(labels=(\"French\",\"English\"))\n",
    "plt.xlabel(\"Sentences\")\n",
    "plt.ylabel(\"Number of Words\")\n",
    "plt.title(\"Length of Sentences\",fontsize = 20, fontweight = 5, color= 'white',backgroundcolor='violet')\n",
    "plt.show()"
   ]
  },
  {
   "cell_type": "code",
   "execution_count": 54,
   "metadata": {
    "colab": {
     "base_uri": "https://localhost:8080/",
     "height": 311
    },
    "hidden": true,
    "id": "38UagPJZP1Tg",
    "outputId": "3cdb8d76-9ba6-47e3-c9fa-3be51c3efd61"
   },
   "outputs": [
    {
     "data": {
      "image/png": "[encoded data removed]",
      "text/plain": [
       "<Figure size 1008x360 with 2 Axes>"
      ]
     },
     "metadata": {
      "needs_background": "light",
      "tags": []
     },
     "output_type": "display_data"
    }
   ],
   "source": [
    "plt.subplots(figsize=(14,5))\n",
    "\n",
    "plt.subplot(1,2,1)   # Postion of 1st plot (row,column,index)\n",
    "plt.hist([fr,en],bins=30,density=True)\n",
    "plt.legend(labels=(\"French\",\"English\"))\n",
    "plt.xlabel(\"Length of Sentence\")\n",
    "plt.ylabel(\"Probability\")\n",
    "plt.title(\"Density of Length of Sentences\",fontsize = 20, fontweight = 5)\n",
    "\n",
    "plt.subplot(1,2,2)\n",
    "plt.boxplot([fr,en],vert=False,labels=(\"French\",\"English\"))\n",
    "plt.title(\"Boxplot of Length of Sentences\",fontsize = 20, fontweight = 5)\n",
    "plt.xlabel(\"Length of Sentence\")\n",
    "plt.tight_layout(4)\n",
    "plt.show()"
   ]
  },
  {
   "cell_type": "code",
   "execution_count": null,
   "metadata": {
    "hidden": true,
    "id": "0cMzbVhErUOk"
   },
   "outputs": [],
   "source": [
    "# head = \"French\\tEnglish\\tFrench_count\\tEnglish_count\"\n",
    "# pd.save_csv('europarl_fr_en_txt.txt', df.values, fmt='%d', delimiter=\"\\t\", header= head)"
   ]
  },
  {
   "cell_type": "code",
   "execution_count": null,
   "metadata": {
    "hidden": true,
    "id": "iT3fQXKzTFbb"
   },
   "outputs": [],
   "source": [
    "# Save cleaned fr_en \n",
    "#filename = 'cleaned_fr_en.joblib'\n",
    "#joblib.dump(df, filename)"
   ]
  },
  {
   "cell_type": "code",
   "execution_count": null,
   "metadata": {
    "hidden": true,
    "id": "aa54hIVkqGU4"
   },
   "outputs": [],
   "source": [
    "# Load the clean data 'clean_fr_en.joblib' from disk\n",
    "#filename = 'cleaned_fr_en.joblib'\n",
    "#data = joblib.load(filename)"
   ]
  },
  {
   "cell_type": "code",
   "execution_count": 55,
   "metadata": {
    "colab": {
     "base_uri": "https://localhost:8080/",
     "height": 453
    },
    "hidden": true,
    "id": "sHMRgh41rkWS",
    "outputId": "3cc46a16-4dfa-49fa-a899-0710fbcbbdb3"
   },
   "outputs": [
    {
     "data": {
      "text/html": [
       "<div>\n",
       "<style scoped>\n",
       "    .dataframe tbody tr th:only-of-type {\n",
       "        vertical-align: middle;\n",
       "    }\n",
       "\n",
       "    .dataframe tbody tr th {\n",
       "        vertical-align: top;\n",
       "    }\n",
       "\n",
       "    .dataframe thead th {\n",
       "        text-align: right;\n",
       "    }\n",
       "</style>\n",
       "<table border=\"1\" class=\"dataframe\">\n",
       "  <thead>\n",
       "    <tr style=\"text-align: right;\">\n",
       "      <th></th>\n",
       "      <th>French</th>\n",
       "      <th>English</th>\n",
       "      <th>French_count</th>\n",
       "      <th>English_count</th>\n",
       "    </tr>\n",
       "  </thead>\n",
       "  <tbody>\n",
       "    <tr>\n",
       "      <th>0</th>\n",
       "      <td>reprise de la session</td>\n",
       "      <td>resumption of the session</td>\n",
       "      <td>4</td>\n",
       "      <td>4</td>\n",
       "    </tr>\n",
       "    <tr>\n",
       "      <th>1</th>\n",
       "      <td>je déclare reprise la session du parlement eur...</td>\n",
       "      <td>i declare resumed the session of the european ...</td>\n",
       "      <td>33</td>\n",
       "      <td>38</td>\n",
       "    </tr>\n",
       "    <tr>\n",
       "      <th>2</th>\n",
       "      <td>comme vous avez pu le constater le grand bogue...</td>\n",
       "      <td>although as you will have seen the dreaded 'mi...</td>\n",
       "      <td>37</td>\n",
       "      <td>31</td>\n",
       "    </tr>\n",
       "    <tr>\n",
       "      <th>3</th>\n",
       "      <td>vous avez souhaité un débat à ce sujet dans le...</td>\n",
       "      <td>you have requested a debate on this subject in...</td>\n",
       "      <td>19</td>\n",
       "      <td>19</td>\n",
       "    </tr>\n",
       "    <tr>\n",
       "      <th>4</th>\n",
       "      <td>en attendant je souhaiterais comme un certain ...</td>\n",
       "      <td>in the meantime i should like to observe a min...</td>\n",
       "      <td>38</td>\n",
       "      <td>40</td>\n",
       "    </tr>\n",
       "    <tr>\n",
       "      <th>...</th>\n",
       "      <td>...</td>\n",
       "      <td>...</td>\n",
       "      <td>...</td>\n",
       "      <td>...</td>\n",
       "    </tr>\n",
       "    <tr>\n",
       "      <th>2007715</th>\n",
       "      <td>je donne la parole à m manders pour une motion...</td>\n",
       "      <td>mr manders has the floor for a procedural motion</td>\n",
       "      <td>12</td>\n",
       "      <td>9</td>\n",
       "    </tr>\n",
       "    <tr>\n",
       "      <th>2007716</th>\n",
       "      <td>monsieur le président je voudrais profiter de ...</td>\n",
       "      <td>mr president i would like to take this opportu...</td>\n",
       "      <td>26</td>\n",
       "      <td>24</td>\n",
       "    </tr>\n",
       "    <tr>\n",
       "      <th>2007717</th>\n",
       "      <td>mesdames et messieurs les députés avant votre ...</td>\n",
       "      <td>ladies and gentlemen before you leave me alone...</td>\n",
       "      <td>57</td>\n",
       "      <td>64</td>\n",
       "    </tr>\n",
       "    <tr>\n",
       "      <th>2007718</th>\n",
       "      <td>je me permettrai même bien qu'ils soient absen...</td>\n",
       "      <td>i would also like although they are absent to ...</td>\n",
       "      <td>15</td>\n",
       "      <td>15</td>\n",
       "    </tr>\n",
       "    <tr>\n",
       "      <th>2007719</th>\n",
       "      <td>je ne rouvrirai pas le débat sur le millénaire...</td>\n",
       "      <td>i am not going to re-open the 'millennium or n...</td>\n",
       "      <td>33</td>\n",
       "      <td>37</td>\n",
       "    </tr>\n",
       "  </tbody>\n",
       "</table>\n",
       "<p>1936892 rows × 4 columns</p>\n",
       "</div>"
      ],
      "text/plain": [
       "                                                    French  ... English_count\n",
       "0                                    reprise de la session  ...             4\n",
       "1        je déclare reprise la session du parlement eur...  ...            38\n",
       "2        comme vous avez pu le constater le grand bogue...  ...            31\n",
       "3        vous avez souhaité un débat à ce sujet dans le...  ...            19\n",
       "4        en attendant je souhaiterais comme un certain ...  ...            40\n",
       "...                                                    ...  ...           ...\n",
       "2007715  je donne la parole à m manders pour une motion...  ...             9\n",
       "2007716  monsieur le président je voudrais profiter de ...  ...            24\n",
       "2007717  mesdames et messieurs les députés avant votre ...  ...            64\n",
       "2007718  je me permettrai même bien qu'ils soient absen...  ...            15\n",
       "2007719  je ne rouvrirai pas le débat sur le millénaire...  ...            37\n",
       "\n",
       "[1936892 rows x 4 columns]"
      ]
     },
     "execution_count": 55,
     "metadata": {
      "tags": []
     },
     "output_type": "execute_result"
    }
   ],
   "source": [
    "df"
   ]
  },
  {
   "cell_type": "code",
   "execution_count": 56,
   "metadata": {
    "hidden": true,
    "id": "sa175j-ZOSBd"
   },
   "outputs": [],
   "source": [
    "# Save cleaned data as csv file\n",
    "df.to_csv('europarl_en_fr_cleaned.csv',sep=\",\")"
   ]
  },
  {
   "cell_type": "code",
   "execution_count": 57,
   "metadata": {
    "colab": {
     "base_uri": "https://localhost:8080/"
    },
    "hidden": true,
    "id": "CV6tV-3SO_36",
    "outputId": "4b9e1cce-621f-4134-f645-12266368c225"
   },
   "outputs": [
    {
     "data": {
      "text/plain": [
       "1936892"
      ]
     },
     "execution_count": 57,
     "metadata": {
      "tags": []
     },
     "output_type": "execute_result"
    }
   ],
   "source": [
    "len(df)"
   ]
  },
  {
   "cell_type": "code",
   "execution_count": 58,
   "metadata": {
    "hidden": true,
    "id": "R3JYkeQfvgK1"
   },
   "outputs": [],
   "source": [
    "# Create a subset of dataset - sample of 50000\n",
    "fr_en_50000 = df.sample(50000, replace=False, random_state=20)"
   ]
  },
  {
   "cell_type": "code",
   "execution_count": 59,
   "metadata": {
    "colab": {
     "base_uri": "https://localhost:8080/"
    },
    "hidden": true,
    "id": "1GXFhR2SqrDF",
    "outputId": "843fee52-2107-44aa-d74a-c3a3081dcd31"
   },
   "outputs": [
    {
     "data": {
      "text/plain": [
       "50000"
      ]
     },
     "execution_count": 59,
     "metadata": {
      "tags": []
     },
     "output_type": "execute_result"
    }
   ],
   "source": [
    "len(fr_en_50000)"
   ]
  },
  {
   "cell_type": "code",
   "execution_count": 60,
   "metadata": {
    "hidden": true,
    "id": "235LYkV_N0dD"
   },
   "outputs": [],
   "source": [
    "# Save sample of cleaned data for training\n",
    "fr_en_50000.to_csv('fr_en_50000.csv',sep=\",\")"
   ]
  },
  {
   "cell_type": "markdown",
   "metadata": {
    "heading_collapsed": true,
    "id": "EFdOaRFUZlvf"
   },
   "source": [
    "## **Word Based Model**"
   ]
  },
  {
   "cell_type": "markdown",
   "metadata": {
    "heading_collapsed": true,
    "hidden": true,
    "id": "DutRkcPBhr40"
   },
   "source": [
    "### Import Cleaned Sample Data"
   ]
  },
  {
   "cell_type": "code",
   "execution_count": 61,
   "metadata": {
    "hidden": true,
    "id": "cTh_l9P1lYnV"
   },
   "outputs": [],
   "source": [
    "# Import cleaned dataset sample\n",
    "path = '/content/drive/MyDrive/Colab_Notebooks/DATA/fr_en_50000.csv'\n",
    "fr_en_50000 = pd.read_csv(path, sep=\",\")"
   ]
  },
  {
   "cell_type": "code",
   "execution_count": 62,
   "metadata": {
    "colab": {
     "base_uri": "https://localhost:8080/"
    },
    "hidden": true,
    "id": "LqAHztpyboA6",
    "outputId": "ea4933de-da46-46f6-ca4e-95702eb4f219"
   },
   "outputs": [
    {
     "data": {
      "text/plain": [
       "['Unnamed: 0', 'French', 'English', 'French_count', 'English_count']"
      ]
     },
     "execution_count": 62,
     "metadata": {
      "tags": []
     },
     "output_type": "execute_result"
    }
   ],
   "source": [
    "data = fr_en_50000.sample(frac=0.02,random_state=275221)\n",
    "list(data.columns.values)"
   ]
  },
  {
   "cell_type": "code",
   "execution_count": 63,
   "metadata": {
    "hidden": true,
    "id": "3d6WQUEFd7vE"
   },
   "outputs": [],
   "source": [
    "# Remove first column -> 'Unnamed: 0'\n",
    "data.drop(['Unnamed: 0'], axis=1, inplace=True)"
   ]
  },
  {
   "cell_type": "code",
   "execution_count": 64,
   "metadata": {
    "colab": {
     "base_uri": "https://localhost:8080/",
     "height": 204
    },
    "hidden": true,
    "id": "_jF1OwIIeXvi",
    "outputId": "dbb008f8-484b-45f1-d634-c97533f0218c"
   },
   "outputs": [
    {
     "data": {
      "text/html": [
       "<div>\n",
       "<style scoped>\n",
       "    .dataframe tbody tr th:only-of-type {\n",
       "        vertical-align: middle;\n",
       "    }\n",
       "\n",
       "    .dataframe tbody tr th {\n",
       "        vertical-align: top;\n",
       "    }\n",
       "\n",
       "    .dataframe thead th {\n",
       "        text-align: right;\n",
       "    }\n",
       "</style>\n",
       "<table border=\"1\" class=\"dataframe\">\n",
       "  <thead>\n",
       "    <tr style=\"text-align: right;\">\n",
       "      <th></th>\n",
       "      <th>French</th>\n",
       "      <th>English</th>\n",
       "      <th>French_count</th>\n",
       "      <th>English_count</th>\n",
       "    </tr>\n",
       "  </thead>\n",
       "  <tbody>\n",
       "    <tr>\n",
       "      <th>4557</th>\n",
       "      <td>il aurait peut-être pu complimenter m solana q...</td>\n",
       "      <td>perhaps you could convey a compliment to mr so...</td>\n",
       "      <td>23</td>\n",
       "      <td>26</td>\n",
       "    </tr>\n",
       "    <tr>\n",
       "      <th>45334</th>\n",
       "      <td>pourquoi l'europe était-elle divisée</td>\n",
       "      <td>why was europe divided</td>\n",
       "      <td>4</td>\n",
       "      <td>4</td>\n",
       "    </tr>\n",
       "    <tr>\n",
       "      <th>44116</th>\n",
       "      <td>les réserves s'appliquent également au pouvoir...</td>\n",
       "      <td>reservations also apply to the discretionary p...</td>\n",
       "      <td>31</td>\n",
       "      <td>34</td>\n",
       "    </tr>\n",
       "    <tr>\n",
       "      <th>27564</th>\n",
       "      <td>une telle politique de restriction sera nature...</td>\n",
       "      <td>however this more restrictive policy is natura...</td>\n",
       "      <td>20</td>\n",
       "      <td>17</td>\n",
       "    </tr>\n",
       "    <tr>\n",
       "      <th>11588</th>\n",
       "      <td>ils peuvent continuer avec leur argent même s'...</td>\n",
       "      <td>they can continue with their money although th...</td>\n",
       "      <td>15</td>\n",
       "      <td>15</td>\n",
       "    </tr>\n",
       "  </tbody>\n",
       "</table>\n",
       "</div>"
      ],
      "text/plain": [
       "                                                  French  ... English_count\n",
       "4557   il aurait peut-être pu complimenter m solana q...  ...            26\n",
       "45334               pourquoi l'europe était-elle divisée  ...             4\n",
       "44116  les réserves s'appliquent également au pouvoir...  ...            34\n",
       "27564  une telle politique de restriction sera nature...  ...            17\n",
       "11588  ils peuvent continuer avec leur argent même s'...  ...            15\n",
       "\n",
       "[5 rows x 4 columns]"
      ]
     },
     "execution_count": 64,
     "metadata": {
      "tags": []
     },
     "output_type": "execute_result"
    }
   ],
   "source": [
    "data.head()"
   ]
  },
  {
   "cell_type": "markdown",
   "metadata": {
    "heading_collapsed": true,
    "hidden": true,
    "id": "qslodP1ehy0h"
   },
   "source": [
    "### Train-Test Split"
   ]
  },
  {
   "cell_type": "code",
   "execution_count": 65,
   "metadata": {
    "colab": {
     "base_uri": "https://localhost:8080/"
    },
    "hidden": true,
    "id": "t6rMV-q-0fr4",
    "outputId": "050f3a01-1578-4794-a252-f17af10c2d7d"
   },
   "outputs": [
    {
     "name": "stdout",
     "output_type": "stream",
     "text": [
      "Size of Training Data : 800\n",
      "Size of Testing Data : 200\n"
     ]
    }
   ],
   "source": [
    "# Split data into training and testing\n",
    "train_data = data.sample(frac=0.8, random_state=1424)\n",
    "test_data = data.drop(train_data.index)\n",
    "print(\"Size of Training Data :\", len(train_data))\n",
    "print(\"Size of Testing Data :\", len(test_data))"
   ]
  },
  {
   "cell_type": "code",
   "execution_count": 66,
   "metadata": {
    "hidden": true,
    "id": "jitpnbxFaiz1"
   },
   "outputs": [],
   "source": [
    "def prob_e_f(f_s,e_s,t,eps=1):\n",
    "  \"\"\"\n",
    "  ARGUMENTS: \n",
    "    f_s = list of tokens for french sentence\n",
    "    e_s = list of tokens for english sentence\n",
    "    t = dictionary of alignments\n",
    "\n",
    "  OUTPUT : \n",
    "    returns p(e|f) - translation probability \n",
    "  \"\"\"\n",
    "\n",
    "  l_f = len(f_s)\n",
    "  l_e = len(e_s)\n",
    "\n",
    "  prod = 1    # This is for the iterative product of summations of t(e|f) \n",
    "              # (i.e. product_j[sum_i(t(e_j|f_i))] )\n",
    "  for e in e_s:\n",
    "    sum = 0\n",
    "    for f in f_s:\n",
    "      sum += t[(e,f)]\n",
    "    prod = sum*prod   \n",
    "\n",
    "  p_e_f = prod * eps / pow(l_f,l_e)\n",
    "  return p_e_f"
   ]
  },
  {
   "cell_type": "code",
   "execution_count": 67,
   "metadata": {
    "hidden": true,
    "id": "o7SzWUKraixx"
   },
   "outputs": [],
   "source": [
    "def dict_to_dataframe(dictionary_obj):\n",
    "  \"\"\"\n",
    "  ARGUMENTS: A dictionary object\n",
    "  OUTPUT: dataframe\n",
    "  \"\"\"\n",
    "\n",
    "  eng = list(OrderedDict.fromkeys([k[0] for k in dictionary_obj.keys()]))\n",
    "  fr = list(OrderedDict.fromkeys([k[1] for k in dictionary_obj.keys()]))\n",
    "  val = np.reshape(np.array([v for v in dictionary_obj.values()]),(len(eng),-1))\n",
    "  df = pd.DataFrame(val, index=eng, columns=fr)\n",
    "  return df"
   ]
  },
  {
   "cell_type": "code",
   "execution_count": 68,
   "metadata": {
    "hidden": true,
    "id": "jKuITmuMZqmA"
   },
   "outputs": [],
   "source": [
    "# Creating English and French Vocabularies of Unique Words\n",
    "\n",
    "foreign_words = []\n",
    "english_words = []\n",
    "\n",
    "for index, row in train_data.iterrows():\n",
    "  for f in row.French.lower().strip().split():\n",
    "    foreign_words.append(f)\n",
    "    \n",
    "  for e in row.English.lower().strip().split():\n",
    "    english_words.append(e)"
   ]
  },
  {
   "cell_type": "code",
   "execution_count": 69,
   "metadata": {
    "colab": {
     "base_uri": "https://localhost:8080/"
    },
    "hidden": true,
    "id": "kOroRmGKaOoV",
    "outputId": "25611065-e2bd-418c-b590-ef155f25abdb"
   },
   "outputs": [
    {
     "name": "stdout",
     "output_type": "stream",
     "text": [
      "Foreign Vocabulary size : 4773\n",
      "Foreign Vocabulary 10 words : ['crée', 'créent', 'créer', 'créera', 'créé', 'csc', 'cuba', 'culpabilité', 'cultivables', 'culture']\n"
     ]
    }
   ],
   "source": [
    "foreign_words = sorted(list(set(foreign_words)))\n",
    "print('Foreign Vocabulary size :', len(foreign_words))\n",
    "print('Foreign Vocabulary 10 words :', foreign_words[1000:1010])"
   ]
  },
  {
   "cell_type": "code",
   "execution_count": 70,
   "metadata": {
    "colab": {
     "base_uri": "https://localhost:8080/"
    },
    "hidden": true,
    "id": "GBmx8InHaOc9",
    "outputId": "5d323dad-fbc1-4bbf-d9b7-a18c62001551"
   },
   "outputs": [
    {
     "name": "stdout",
     "output_type": "stream",
     "text": [
      "English Vocabulary size : 3842\n",
      "English Vocabulary 10 words : ['demonstrated', 'demonstrates', 'denmark', 'denominator', 'department', 'departure', 'dependence', 'dependent', 'depends', 'deposits']\n"
     ]
    }
   ],
   "source": [
    "english_words = sorted(list(set(english_words)))\n",
    "print('English Vocabulary size :', len(english_words))\n",
    "print('English Vocabulary 10 words :', english_words[1000:1010])"
   ]
  },
  {
   "cell_type": "code",
   "execution_count": 71,
   "metadata": {
    "hidden": true,
    "id": "O9uvCMwoaipC"
   },
   "outputs": [],
   "source": [
    "# Initialize t, total, count\n",
    "\n",
    "t = {}\n",
    "\n",
    "for f in foreign_words:\n",
    "  for e in english_words:\n",
    "    t[(e,f)] = 1/len(foreign_words)"
   ]
  },
  {
   "cell_type": "code",
   "execution_count": 72,
   "metadata": {
    "colab": {
     "base_uri": "https://localhost:8080/",
     "height": 376
    },
    "hidden": true,
    "id": "OQsZ-qUaa2_b",
    "outputId": "c28a50d2-3262-42ef-a85e-dd09c4988549"
   },
   "outputs": [
    {
     "name": "stdout",
     "output_type": "stream",
     "text": [
      "(3842, 4773)\n"
     ]
    },
    {
     "data": {
      "text/html": [
       "<div>\n",
       "<style scoped>\n",
       "    .dataframe tbody tr th:only-of-type {\n",
       "        vertical-align: middle;\n",
       "    }\n",
       "\n",
       "    .dataframe tbody tr th {\n",
       "        vertical-align: top;\n",
       "    }\n",
       "\n",
       "    .dataframe thead th {\n",
       "        text-align: right;\n",
       "    }\n",
       "</style>\n",
       "<table border=\"1\" class=\"dataframe\">\n",
       "  <thead>\n",
       "    <tr style=\"text-align: right;\">\n",
       "      <th></th>\n",
       "      <th>messieurs</th>\n",
       "      <th>mesure</th>\n",
       "      <th>mesures</th>\n",
       "      <th>met</th>\n",
       "      <th>mettant</th>\n",
       "      <th>mettent</th>\n",
       "      <th>mettra</th>\n",
       "      <th>mettre</th>\n",
       "    </tr>\n",
       "  </thead>\n",
       "  <tbody>\n",
       "    <tr>\n",
       "      <th>english</th>\n",
       "      <td>0.00021</td>\n",
       "      <td>0.00021</td>\n",
       "      <td>0.00021</td>\n",
       "      <td>0.00021</td>\n",
       "      <td>0.00021</td>\n",
       "      <td>0.00021</td>\n",
       "      <td>0.00021</td>\n",
       "      <td>0.00021</td>\n",
       "    </tr>\n",
       "    <tr>\n",
       "      <th>enjoy</th>\n",
       "      <td>0.00021</td>\n",
       "      <td>0.00021</td>\n",
       "      <td>0.00021</td>\n",
       "      <td>0.00021</td>\n",
       "      <td>0.00021</td>\n",
       "      <td>0.00021</td>\n",
       "      <td>0.00021</td>\n",
       "      <td>0.00021</td>\n",
       "    </tr>\n",
       "    <tr>\n",
       "      <th>enlargement</th>\n",
       "      <td>0.00021</td>\n",
       "      <td>0.00021</td>\n",
       "      <td>0.00021</td>\n",
       "      <td>0.00021</td>\n",
       "      <td>0.00021</td>\n",
       "      <td>0.00021</td>\n",
       "      <td>0.00021</td>\n",
       "      <td>0.00021</td>\n",
       "    </tr>\n",
       "    <tr>\n",
       "      <th>enormous</th>\n",
       "      <td>0.00021</td>\n",
       "      <td>0.00021</td>\n",
       "      <td>0.00021</td>\n",
       "      <td>0.00021</td>\n",
       "      <td>0.00021</td>\n",
       "      <td>0.00021</td>\n",
       "      <td>0.00021</td>\n",
       "      <td>0.00021</td>\n",
       "    </tr>\n",
       "    <tr>\n",
       "      <th>enough</th>\n",
       "      <td>0.00021</td>\n",
       "      <td>0.00021</td>\n",
       "      <td>0.00021</td>\n",
       "      <td>0.00021</td>\n",
       "      <td>0.00021</td>\n",
       "      <td>0.00021</td>\n",
       "      <td>0.00021</td>\n",
       "      <td>0.00021</td>\n",
       "    </tr>\n",
       "    <tr>\n",
       "      <th>enshrined</th>\n",
       "      <td>0.00021</td>\n",
       "      <td>0.00021</td>\n",
       "      <td>0.00021</td>\n",
       "      <td>0.00021</td>\n",
       "      <td>0.00021</td>\n",
       "      <td>0.00021</td>\n",
       "      <td>0.00021</td>\n",
       "      <td>0.00021</td>\n",
       "    </tr>\n",
       "    <tr>\n",
       "      <th>ensure</th>\n",
       "      <td>0.00021</td>\n",
       "      <td>0.00021</td>\n",
       "      <td>0.00021</td>\n",
       "      <td>0.00021</td>\n",
       "      <td>0.00021</td>\n",
       "      <td>0.00021</td>\n",
       "      <td>0.00021</td>\n",
       "      <td>0.00021</td>\n",
       "    </tr>\n",
       "    <tr>\n",
       "      <th>ensured</th>\n",
       "      <td>0.00021</td>\n",
       "      <td>0.00021</td>\n",
       "      <td>0.00021</td>\n",
       "      <td>0.00021</td>\n",
       "      <td>0.00021</td>\n",
       "      <td>0.00021</td>\n",
       "      <td>0.00021</td>\n",
       "      <td>0.00021</td>\n",
       "    </tr>\n",
       "    <tr>\n",
       "      <th>ensuring</th>\n",
       "      <td>0.00021</td>\n",
       "      <td>0.00021</td>\n",
       "      <td>0.00021</td>\n",
       "      <td>0.00021</td>\n",
       "      <td>0.00021</td>\n",
       "      <td>0.00021</td>\n",
       "      <td>0.00021</td>\n",
       "      <td>0.00021</td>\n",
       "    </tr>\n",
       "    <tr>\n",
       "      <th>entailed</th>\n",
       "      <td>0.00021</td>\n",
       "      <td>0.00021</td>\n",
       "      <td>0.00021</td>\n",
       "      <td>0.00021</td>\n",
       "      <td>0.00021</td>\n",
       "      <td>0.00021</td>\n",
       "      <td>0.00021</td>\n",
       "      <td>0.00021</td>\n",
       "    </tr>\n",
       "  </tbody>\n",
       "</table>\n",
       "</div>"
      ],
      "text/plain": [
       "             messieurs   mesure  mesures  ...  mettent   mettra   mettre\n",
       "english        0.00021  0.00021  0.00021  ...  0.00021  0.00021  0.00021\n",
       "enjoy          0.00021  0.00021  0.00021  ...  0.00021  0.00021  0.00021\n",
       "enlargement    0.00021  0.00021  0.00021  ...  0.00021  0.00021  0.00021\n",
       "enormous       0.00021  0.00021  0.00021  ...  0.00021  0.00021  0.00021\n",
       "enough         0.00021  0.00021  0.00021  ...  0.00021  0.00021  0.00021\n",
       "enshrined      0.00021  0.00021  0.00021  ...  0.00021  0.00021  0.00021\n",
       "ensure         0.00021  0.00021  0.00021  ...  0.00021  0.00021  0.00021\n",
       "ensured        0.00021  0.00021  0.00021  ...  0.00021  0.00021  0.00021\n",
       "ensuring       0.00021  0.00021  0.00021  ...  0.00021  0.00021  0.00021\n",
       "entailed       0.00021  0.00021  0.00021  ...  0.00021  0.00021  0.00021\n",
       "\n",
       "[10 rows x 8 columns]"
      ]
     },
     "execution_count": 72,
     "metadata": {
      "tags": []
     },
     "output_type": "execute_result"
    }
   ],
   "source": [
    "# Initial translation probabilities\n",
    "t_dataframe = dict_to_dataframe(t)\n",
    "print(t_dataframe.shape)\n",
    "t_dataframe.iloc[1230:1240,2780:2788]"
   ]
  },
  {
   "cell_type": "markdown",
   "metadata": {
    "heading_collapsed": true,
    "hidden": true,
    "id": "yzP0OevLyJmE"
   },
   "source": [
    "### IBM model1 training."
   ]
  },
  {
   "cell_type": "code",
   "execution_count": 73,
   "metadata": {
    "hidden": true,
    "id": "KlGndziSa20q"
   },
   "outputs": [],
   "source": [
    "def IBModel1(corpus, t, foreign_vocab = foreign_words, english_vocab = english_words, epochs = 10):\n",
    "  perp_all = []\n",
    "\n",
    "  for i in tqdm_notebook(range(epochs), total = epochs, unit = 'epoch'):\n",
    "\n",
    "    # Initialize\n",
    "    total = {}\n",
    "    count = {}\n",
    "\n",
    "    for f in foreign_vocab:\n",
    "      total[f] = 0.0\n",
    "      for e in english_vocab:\n",
    "        count[(e,f)] = 0.0  \n",
    "\n",
    "    perp = 0\n",
    "    # Loop over all rows\n",
    "    for index, row in corpus.iterrows():\n",
    "      f_s = row.French.lower().strip().split()\n",
    "      e_s = row.English.lower().strip().split()\n",
    "\n",
    "      prob_ef = prob_e_f(f_s,e_s,t)\n",
    "      d = Decimal(prob_ef)         # This probability is very small\n",
    "      try:\n",
    "        pp = -1.0*log2(d)                       # so converted to decimal to ease in finding log \n",
    "      except:\n",
    "        pp = 799.99625657\n",
    "              \n",
    "      perp += pp\n",
    "      \n",
    "      # Compute normalization\n",
    "      s_total = {} \n",
    "      for e in e_s:\n",
    "        s_total[e] = 0.0                        # s-total(e) = 0\n",
    "        for f in f_s:\n",
    "          s_total[e] = s_total[e] + t[(e,f)]                # s-total(e) += t(e|f)\n",
    "        \n",
    "      # Collect counts\n",
    "      for e in e_s:\n",
    "        for f in f_s:\n",
    "          count[(e,f)] = count[(e,f)] + t[(e,f)]/s_total[e]       # count(e|f) += t(e|f)/s-total(e)\n",
    "          total[f] = total[f] + t[(e,f)]/s_total[e]           # total(f) += t(e|f)/s-total(e)\n",
    "\n",
    "          t[(e,f)] = count[(e,f)]/total[f]      # t(e|f) = count(e|f)/total(f)\n",
    "\n",
    "    perp_all.append(perp)\n",
    "\n",
    "  return t, perp_all"
   ]
  },
  {
   "cell_type": "code",
   "execution_count": 74,
   "metadata": {
    "colab": {
     "base_uri": "https://localhost:8080/",
     "height": 137,
     "referenced_widgets": [
      "45617b6b51164534b8a63d526c84761e",
      "dfb85387c357440f9306f4d1e964feaf",
      "551a256a3e0c462baf6875f96078a61e",
      "d9a65628c7644e49a687a616244a71d8",
      "ab470686789944e8a411c63494e0e65f",
      "bf27f46cf6ce4540a8f8e72cdf27f069",
      "a4f1210939f54605aa73160717b672d7",
      "377f475bf2a644919b70b643dcbeb818"
     ]
    },
    "hidden": true,
    "id": "W7IUH2uu2zT-",
    "outputId": "dd367436-cb81-4eea-dff8-6f6d169c4a02"
   },
   "outputs": [
    {
     "name": "stderr",
     "output_type": "stream",
     "text": [
      "/usr/local/lib/python3.7/dist-packages/ipykernel_launcher.py:4: TqdmDeprecationWarning: This function will be removed in tqdm==5.0.0\n",
      "Please use `tqdm.notebook.tqdm` instead of `tqdm.tqdm_notebook`\n",
      "  after removing the cwd from sys.path.\n"
     ]
    },
    {
     "data": {
      "application/vnd.jupyter.widget-view+json": {
       "model_id": "45617b6b51164534b8a63d526c84761e",
       "version_major": 2,
       "version_minor": 0
      },
      "text/plain": [
       "HBox(children=(FloatProgress(value=0.0, max=10.0), HTML(value='')))"
      ]
     },
     "metadata": {
      "tags": []
     },
     "output_type": "display_data"
    },
    {
     "name": "stdout",
     "output_type": "stream",
     "text": [
      "\n"
     ]
    }
   ],
   "source": [
    "# Check epochs before uncommenting - training for longer epochs would give much better results.\n",
    "t , perplexity = IBModel1(train_data,t=t,epochs=10)"
   ]
  },
  {
   "cell_type": "markdown",
   "metadata": {
    "heading_collapsed": true,
    "hidden": true,
    "id": "g5wl3ox3X9ij"
   },
   "source": [
    "### A look at the translation probabilities for most common english-french words pair."
   ]
  },
  {
   "cell_type": "code",
   "execution_count": 75,
   "metadata": {
    "colab": {
     "base_uri": "https://localhost:8080/"
    },
    "hidden": true,
    "id": "dR08n7capg_o",
    "outputId": "3b407a27-767a-4ee4-84b1-e10679476578"
   },
   "outputs": [
    {
     "name": "stdout",
     "output_type": "stream",
     "text": [
      "20 Most common English words : \n",
      " ['as', 'i', 'his', 'that', 'he', 'was', 'for', 'on', 'are', 'with', 'they', 'be', 'at', 'one', 'have', 'this', 'by', 'hot', 'word', 'but']\n",
      "20 Most common French words : \n",
      " ['comme', 'je', 'son', 'que', 'il', 'était', 'pour', 'sur', 'sont', 'avec', 'ils', 'être', 'à', 'un', 'avoir', 'ce', 'par', 'chaud', 'mot', 'mais']\n"
     ]
    }
   ],
   "source": [
    "# 20 Most common words taken from - https://1000mostcommonwords.com/1000-most-common-french-words/ \n",
    "most_common_fr = 'comme je son que il était pour sur sont avec ils être à un avoir ce par chaud mot mais'\n",
    "most_common_en = 'as i his that he was for on are with they be at one have this by hot word but'\n",
    "\n",
    "tok_fr = most_common_fr.split()\n",
    "tok_en = most_common_en.split()\n",
    "\n",
    "print(\"20 Most common English words : \\n\",tok_en)\n",
    "print(\"20 Most common French words : \\n\",tok_fr)"
   ]
  },
  {
   "cell_type": "code",
   "execution_count": 76,
   "metadata": {
    "hidden": true,
    "id": "_W4iF75mt_ZH"
   },
   "outputs": [],
   "source": [
    "most_common = {}\n",
    "for f in tok_fr:\n",
    "  for e in tok_en:    \n",
    "    try:\n",
    "      most_common[(e,f)] = round(t[(e,f)],5)\n",
    "    except:\n",
    "      pass  \n",
    "\n",
    "frequent_words = dict_to_dataframe(most_common)"
   ]
  },
  {
   "cell_type": "code",
   "execution_count": 77,
   "metadata": {
    "colab": {
     "base_uri": "https://localhost:8080/",
     "height": 359
    },
    "hidden": true,
    "id": "BSRDMyhOxZDJ",
    "outputId": "c3885234-f342-47f3-8a4f-27ca94d0a65d"
   },
   "outputs": [
    {
     "data": {
      "text/html": [
       "<div>\n",
       "<style scoped>\n",
       "    .dataframe tbody tr th:only-of-type {\n",
       "        vertical-align: middle;\n",
       "    }\n",
       "\n",
       "    .dataframe tbody tr th {\n",
       "        vertical-align: top;\n",
       "    }\n",
       "\n",
       "    .dataframe thead th {\n",
       "        text-align: right;\n",
       "    }\n",
       "</style>\n",
       "<table border=\"1\" class=\"dataframe\">\n",
       "  <thead>\n",
       "    <tr style=\"text-align: right;\">\n",
       "      <th></th>\n",
       "      <th>comme</th>\n",
       "      <th>je</th>\n",
       "      <th>son</th>\n",
       "      <th>que</th>\n",
       "      <th>il</th>\n",
       "      <th>était</th>\n",
       "      <th>pour</th>\n",
       "      <th>sur</th>\n",
       "      <th>sont</th>\n",
       "      <th>avec</th>\n",
       "    </tr>\n",
       "  </thead>\n",
       "  <tbody>\n",
       "    <tr>\n",
       "      <th>as</th>\n",
       "      <td>0.80348</td>\n",
       "      <td>0.01602</td>\n",
       "      <td>0.00001</td>\n",
       "      <td>0.00006</td>\n",
       "      <td>0.00021</td>\n",
       "      <td>0.00000</td>\n",
       "      <td>0.00000</td>\n",
       "      <td>0.00000</td>\n",
       "      <td>0.00417</td>\n",
       "      <td>0.00002</td>\n",
       "    </tr>\n",
       "    <tr>\n",
       "      <th>i</th>\n",
       "      <td>0.00000</td>\n",
       "      <td>0.00000</td>\n",
       "      <td>0.57519</td>\n",
       "      <td>0.00000</td>\n",
       "      <td>0.00005</td>\n",
       "      <td>0.00000</td>\n",
       "      <td>0.00000</td>\n",
       "      <td>0.00000</td>\n",
       "      <td>0.08032</td>\n",
       "      <td>0.00000</td>\n",
       "    </tr>\n",
       "    <tr>\n",
       "      <th>his</th>\n",
       "      <td>0.00000</td>\n",
       "      <td>0.00000</td>\n",
       "      <td>0.00000</td>\n",
       "      <td>0.00003</td>\n",
       "      <td>0.51345</td>\n",
       "      <td>0.00000</td>\n",
       "      <td>0.00000</td>\n",
       "      <td>0.00000</td>\n",
       "      <td>0.00818</td>\n",
       "      <td>0.00156</td>\n",
       "    </tr>\n",
       "    <tr>\n",
       "      <th>that</th>\n",
       "      <td>0.00021</td>\n",
       "      <td>0.00021</td>\n",
       "      <td>0.01250</td>\n",
       "      <td>0.00000</td>\n",
       "      <td>0.00000</td>\n",
       "      <td>0.00000</td>\n",
       "      <td>0.55287</td>\n",
       "      <td>0.00000</td>\n",
       "      <td>0.00000</td>\n",
       "      <td>0.00000</td>\n",
       "    </tr>\n",
       "    <tr>\n",
       "      <th>he</th>\n",
       "      <td>0.00000</td>\n",
       "      <td>0.00021</td>\n",
       "      <td>0.00021</td>\n",
       "      <td>0.00000</td>\n",
       "      <td>0.00000</td>\n",
       "      <td>0.00000</td>\n",
       "      <td>0.00000</td>\n",
       "      <td>0.00000</td>\n",
       "      <td>0.00000</td>\n",
       "      <td>0.00000</td>\n",
       "    </tr>\n",
       "    <tr>\n",
       "      <th>was</th>\n",
       "      <td>0.00000</td>\n",
       "      <td>0.00000</td>\n",
       "      <td>0.00021</td>\n",
       "      <td>0.00021</td>\n",
       "      <td>0.00000</td>\n",
       "      <td>0.00021</td>\n",
       "      <td>0.00000</td>\n",
       "      <td>0.00021</td>\n",
       "      <td>0.00000</td>\n",
       "      <td>0.00021</td>\n",
       "    </tr>\n",
       "    <tr>\n",
       "      <th>for</th>\n",
       "      <td>0.00000</td>\n",
       "      <td>0.00000</td>\n",
       "      <td>0.00021</td>\n",
       "      <td>0.00021</td>\n",
       "      <td>0.00021</td>\n",
       "      <td>0.00000</td>\n",
       "      <td>0.00000</td>\n",
       "      <td>0.00000</td>\n",
       "      <td>0.00000</td>\n",
       "      <td>0.00669</td>\n",
       "    </tr>\n",
       "    <tr>\n",
       "      <th>on</th>\n",
       "      <td>0.00000</td>\n",
       "      <td>0.00000</td>\n",
       "      <td>0.00000</td>\n",
       "      <td>0.00000</td>\n",
       "      <td>0.00000</td>\n",
       "      <td>0.00021</td>\n",
       "      <td>0.00000</td>\n",
       "      <td>0.00000</td>\n",
       "      <td>0.00000</td>\n",
       "      <td>0.00000</td>\n",
       "    </tr>\n",
       "    <tr>\n",
       "      <th>are</th>\n",
       "      <td>0.00000</td>\n",
       "      <td>0.00000</td>\n",
       "      <td>0.00000</td>\n",
       "      <td>0.00000</td>\n",
       "      <td>0.00000</td>\n",
       "      <td>0.00021</td>\n",
       "      <td>0.91935</td>\n",
       "      <td>0.00000</td>\n",
       "      <td>0.00000</td>\n",
       "      <td>0.00000</td>\n",
       "    </tr>\n",
       "    <tr>\n",
       "      <th>with</th>\n",
       "      <td>0.00000</td>\n",
       "      <td>0.00000</td>\n",
       "      <td>0.00000</td>\n",
       "      <td>0.00000</td>\n",
       "      <td>0.00000</td>\n",
       "      <td>0.00000</td>\n",
       "      <td>0.00000</td>\n",
       "      <td>0.00021</td>\n",
       "      <td>0.00000</td>\n",
       "      <td>0.00000</td>\n",
       "    </tr>\n",
       "  </tbody>\n",
       "</table>\n",
       "</div>"
      ],
      "text/plain": [
       "        comme       je      son      que  ...     pour      sur     sont     avec\n",
       "as    0.80348  0.01602  0.00001  0.00006  ...  0.00000  0.00000  0.00417  0.00002\n",
       "i     0.00000  0.00000  0.57519  0.00000  ...  0.00000  0.00000  0.08032  0.00000\n",
       "his   0.00000  0.00000  0.00000  0.00003  ...  0.00000  0.00000  0.00818  0.00156\n",
       "that  0.00021  0.00021  0.01250  0.00000  ...  0.55287  0.00000  0.00000  0.00000\n",
       "he    0.00000  0.00021  0.00021  0.00000  ...  0.00000  0.00000  0.00000  0.00000\n",
       "was   0.00000  0.00000  0.00021  0.00021  ...  0.00000  0.00021  0.00000  0.00021\n",
       "for   0.00000  0.00000  0.00021  0.00021  ...  0.00000  0.00000  0.00000  0.00669\n",
       "on    0.00000  0.00000  0.00000  0.00000  ...  0.00000  0.00000  0.00000  0.00000\n",
       "are   0.00000  0.00000  0.00000  0.00000  ...  0.91935  0.00000  0.00000  0.00000\n",
       "with  0.00000  0.00000  0.00000  0.00000  ...  0.00000  0.00021  0.00000  0.00000\n",
       "\n",
       "[10 rows x 10 columns]"
      ]
     },
     "execution_count": 77,
     "metadata": {
      "tags": []
     },
     "output_type": "execute_result"
    }
   ],
   "source": [
    "# Alignment probability for 1-10  most common French-English words :\n",
    "first_10 = frequent_words.iloc[:10,:10]\n",
    "first_10"
   ]
  },
  {
   "cell_type": "code",
   "execution_count": 78,
   "metadata": {
    "colab": {
     "base_uri": "https://localhost:8080/",
     "height": 328
    },
    "hidden": true,
    "id": "OIqH6TGRzsGf",
    "outputId": "108741d0-82a3-4cf1-b44f-e923aec4570f"
   },
   "outputs": [
    {
     "data": {
      "text/html": [
       "<div>\n",
       "<style scoped>\n",
       "    .dataframe tbody tr th:only-of-type {\n",
       "        vertical-align: middle;\n",
       "    }\n",
       "\n",
       "    .dataframe tbody tr th {\n",
       "        vertical-align: top;\n",
       "    }\n",
       "\n",
       "    .dataframe thead th {\n",
       "        text-align: right;\n",
       "    }\n",
       "</style>\n",
       "<table border=\"1\" class=\"dataframe\">\n",
       "  <thead>\n",
       "    <tr style=\"text-align: right;\">\n",
       "      <th></th>\n",
       "      <th>être</th>\n",
       "      <th>à</th>\n",
       "      <th>un</th>\n",
       "      <th>avoir</th>\n",
       "      <th>ce</th>\n",
       "      <th>par</th>\n",
       "      <th>mot</th>\n",
       "      <th>mais</th>\n",
       "    </tr>\n",
       "  </thead>\n",
       "  <tbody>\n",
       "    <tr>\n",
       "      <th>be</th>\n",
       "      <td>0.00000</td>\n",
       "      <td>0.00000</td>\n",
       "      <td>0.00021</td>\n",
       "      <td>0.00213</td>\n",
       "      <td>0.00021</td>\n",
       "      <td>0.00000</td>\n",
       "      <td>0.00000</td>\n",
       "      <td>0.00000</td>\n",
       "    </tr>\n",
       "    <tr>\n",
       "      <th>at</th>\n",
       "      <td>0.00000</td>\n",
       "      <td>0.00000</td>\n",
       "      <td>0.00000</td>\n",
       "      <td>0.00000</td>\n",
       "      <td>0.00169</td>\n",
       "      <td>0.00000</td>\n",
       "      <td>0.00000</td>\n",
       "      <td>0.00000</td>\n",
       "    </tr>\n",
       "    <tr>\n",
       "      <th>one</th>\n",
       "      <td>0.00000</td>\n",
       "      <td>0.00000</td>\n",
       "      <td>0.00000</td>\n",
       "      <td>0.00000</td>\n",
       "      <td>0.00000</td>\n",
       "      <td>0.00001</td>\n",
       "      <td>0.00000</td>\n",
       "      <td>0.00000</td>\n",
       "    </tr>\n",
       "    <tr>\n",
       "      <th>have</th>\n",
       "      <td>0.00021</td>\n",
       "      <td>0.00000</td>\n",
       "      <td>0.00000</td>\n",
       "      <td>0.00000</td>\n",
       "      <td>0.06476</td>\n",
       "      <td>0.00021</td>\n",
       "      <td>0.01409</td>\n",
       "      <td>0.00000</td>\n",
       "    </tr>\n",
       "    <tr>\n",
       "      <th>this</th>\n",
       "      <td>0.00039</td>\n",
       "      <td>0.00021</td>\n",
       "      <td>0.00021</td>\n",
       "      <td>0.00000</td>\n",
       "      <td>0.00000</td>\n",
       "      <td>0.00000</td>\n",
       "      <td>0.00000</td>\n",
       "      <td>0.28207</td>\n",
       "    </tr>\n",
       "    <tr>\n",
       "      <th>by</th>\n",
       "      <td>0.00002</td>\n",
       "      <td>0.00000</td>\n",
       "      <td>0.00000</td>\n",
       "      <td>0.00021</td>\n",
       "      <td>0.00000</td>\n",
       "      <td>0.00000</td>\n",
       "      <td>0.00000</td>\n",
       "      <td>0.00000</td>\n",
       "    </tr>\n",
       "    <tr>\n",
       "      <th>hot</th>\n",
       "      <td>0.00000</td>\n",
       "      <td>0.00000</td>\n",
       "      <td>0.63572</td>\n",
       "      <td>0.00021</td>\n",
       "      <td>0.00021</td>\n",
       "      <td>0.00000</td>\n",
       "      <td>0.00021</td>\n",
       "      <td>0.00000</td>\n",
       "    </tr>\n",
       "    <tr>\n",
       "      <th>word</th>\n",
       "      <td>0.00021</td>\n",
       "      <td>0.00021</td>\n",
       "      <td>0.00021</td>\n",
       "      <td>0.00000</td>\n",
       "      <td>0.00021</td>\n",
       "      <td>0.74205</td>\n",
       "      <td>0.00021</td>\n",
       "      <td>0.00000</td>\n",
       "    </tr>\n",
       "    <tr>\n",
       "      <th>but</th>\n",
       "      <td>0.00000</td>\n",
       "      <td>0.00000</td>\n",
       "      <td>0.00000</td>\n",
       "      <td>0.00000</td>\n",
       "      <td>0.00000</td>\n",
       "      <td>0.00021</td>\n",
       "      <td>0.00021</td>\n",
       "      <td>0.79902</td>\n",
       "    </tr>\n",
       "  </tbody>\n",
       "</table>\n",
       "</div>"
      ],
      "text/plain": [
       "         être        à       un    avoir       ce      par      mot     mais\n",
       "be    0.00000  0.00000  0.00021  0.00213  0.00021  0.00000  0.00000  0.00000\n",
       "at    0.00000  0.00000  0.00000  0.00000  0.00169  0.00000  0.00000  0.00000\n",
       "one   0.00000  0.00000  0.00000  0.00000  0.00000  0.00001  0.00000  0.00000\n",
       "have  0.00021  0.00000  0.00000  0.00000  0.06476  0.00021  0.01409  0.00000\n",
       "this  0.00039  0.00021  0.00021  0.00000  0.00000  0.00000  0.00000  0.28207\n",
       "by    0.00002  0.00000  0.00000  0.00021  0.00000  0.00000  0.00000  0.00000\n",
       "hot   0.00000  0.00000  0.63572  0.00021  0.00021  0.00000  0.00021  0.00000\n",
       "word  0.00021  0.00021  0.00021  0.00000  0.00021  0.74205  0.00021  0.00000\n",
       "but   0.00000  0.00000  0.00000  0.00000  0.00000  0.00021  0.00021  0.79902"
      ]
     },
     "execution_count": 78,
     "metadata": {
      "tags": []
     },
     "output_type": "execute_result"
    }
   ],
   "source": [
    "# Alignment probability for 11-20  most common French-English words :\n",
    "last_10 = frequent_words.iloc[11:,11:]\n",
    "last_10"
   ]
  },
  {
   "cell_type": "markdown",
   "metadata": {
    "heading_collapsed": true,
    "hidden": true,
    "id": "P0tvPIGpWIJK"
   },
   "source": [
    "### Perplexity of Alignments"
   ]
  },
  {
   "cell_type": "code",
   "execution_count": 79,
   "metadata": {
    "colab": {
     "base_uri": "https://localhost:8080/",
     "height": 295
    },
    "hidden": true,
    "id": "DSKqoeL2bKBX",
    "outputId": "0aecb729-6357-4127-d72d-a781e6617aa3"
   },
   "outputs": [
    {
     "data": {
      "image/png": "[encoded data removed]",
      "text/plain": [
       "<Figure size 504x288 with 1 Axes>"
      ]
     },
     "metadata": {
      "needs_background": "light",
      "tags": []
     },
     "output_type": "display_data"
    }
   ],
   "source": [
    "# Plot of perplexity for 10 iterations\n",
    "plt.figure(figsize=(7,4))\n",
    "plt.plot(range(1, len(perplexity) + 1), perplexity, linewidth=4)\n",
    "plt.xlabel('Number of Iterations')\n",
    "plt.ylabel('Perplexity')\n",
    "plt.title('Perplexity vs. iterations')\n",
    "plt.rcParams.update({'font.size': 12})"
   ]
  },
  {
   "cell_type": "code",
   "execution_count": 80,
   "metadata": {
    "colab": {
     "base_uri": "https://localhost:8080/",
     "height": 302
    },
    "hidden": true,
    "id": "H3RrQ8rJbJ4Q",
    "outputId": "c05fbc47-cb73-403a-8a99-1ada64592d82"
   },
   "outputs": [
    {
     "data": {
      "image/png": "[encoded data removed]",
      "text/plain": [
       "<Figure size 504x288 with 1 Axes>"
      ]
     },
     "metadata": {
      "needs_background": "light",
      "tags": []
     },
     "output_type": "display_data"
    }
   ],
   "source": [
    "# Plot of log base 10 of perplexity\n",
    "plt.figure(figsize=(7,4))\n",
    "plt.plot(range(1, len(perplexity) + 1), np.log10(perplexity), linewidth=4)\n",
    "plt.xlabel('Number of Iterations')\n",
    "plt.ylabel('Log perplexity')\n",
    "plt.title('Log perplexity vs. iterations')\n",
    "plt.rcParams.update({'font.size': 12})"
   ]
  },
  {
   "cell_type": "code",
   "execution_count": 81,
   "metadata": {
    "hidden": true,
    "id": "a3LHNVLSi8gk"
   },
   "outputs": [],
   "source": [
    "# Save cleaned fr_en \n",
    "#filename = 'cleaned_fr_en.joblib'\n",
    "#joblib.dump(df, filename)\n",
    "\n",
    "# Load the clean data 'clean_fr_en.joblib' from disk\n",
    "#filename = 'cleaned_fr_en.joblib'\n",
    "#data = joblib.load(filename)"
   ]
  },
  {
   "cell_type": "code",
   "execution_count": 82,
   "metadata": {
    "colab": {
     "base_uri": "https://localhost:8080/",
     "height": 159
    },
    "hidden": true,
    "id": "Tit_BclFXIFY",
    "outputId": "9f954488-3473-48c0-9466-41ec43bc4f60"
   },
   "outputs": [
    {
     "name": "stdout",
     "output_type": "stream",
     "text": [
      "Alignment for some selected words:\n"
     ]
    },
    {
     "data": {
      "text/html": [
       "<div>\n",
       "<style scoped>\n",
       "    .dataframe tbody tr th:only-of-type {\n",
       "        vertical-align: middle;\n",
       "    }\n",
       "\n",
       "    .dataframe tbody tr th {\n",
       "        vertical-align: top;\n",
       "    }\n",
       "\n",
       "    .dataframe thead th {\n",
       "        text-align: right;\n",
       "    }\n",
       "</style>\n",
       "<table border=\"1\" class=\"dataframe\">\n",
       "  <thead>\n",
       "    <tr style=\"text-align: right;\">\n",
       "      <th></th>\n",
       "      <th>mais</th>\n",
       "      <th>sans</th>\n",
       "      <th>je</th>\n",
       "    </tr>\n",
       "  </thead>\n",
       "  <tbody>\n",
       "    <tr>\n",
       "      <th>but</th>\n",
       "      <td>0.799</td>\n",
       "      <td>0.0000</td>\n",
       "      <td>0.0000</td>\n",
       "    </tr>\n",
       "    <tr>\n",
       "      <th>without</th>\n",
       "      <td>0.000</td>\n",
       "      <td>0.7354</td>\n",
       "      <td>0.0000</td>\n",
       "    </tr>\n",
       "    <tr>\n",
       "      <th>i</th>\n",
       "      <td>0.000</td>\n",
       "      <td>0.0000</td>\n",
       "      <td>0.5752</td>\n",
       "    </tr>\n",
       "  </tbody>\n",
       "</table>\n",
       "</div>"
      ],
      "text/plain": [
       "          mais    sans      je\n",
       "but      0.799  0.0000  0.0000\n",
       "without  0.000  0.7354  0.0000\n",
       "i        0.000  0.0000  0.5752"
      ]
     },
     "execution_count": 82,
     "metadata": {
      "tags": []
     },
     "output_type": "execute_result"
    }
   ],
   "source": [
    "fra = ['mais', 'sans', 'je']\n",
    "ena = ['but', 'without', 'i']\n",
    "\n",
    "align = {}\n",
    "for f in fra:\n",
    "  for e in ena:\n",
    "    align[(e,f)] = round(t[(e,f)],4)\n",
    "\n",
    "print(\"Alignment for some selected words:\")\n",
    "dict_to_dataframe(align) "
   ]
  },
  {
   "cell_type": "markdown",
   "metadata": {
    "heading_collapsed": true,
    "hidden": true,
    "id": "WJU3sxrwG0-o"
   },
   "source": [
    "### Translation of french sentence"
   ]
  },
  {
   "cell_type": "code",
   "execution_count": 83,
   "metadata": {
    "hidden": true,
    "id": "NMeps_-k06FQ"
   },
   "outputs": [],
   "source": [
    "def translate(test,t,foreign_words=foreign_words,english_words=english_words):\n",
    "  \"\"\"\n",
    "  INPUT :\n",
    "        test --> foreign sentence to translate  \n",
    "        t --> alignments \n",
    "        foreign_words --> French vocabulary from parallel corpus\n",
    "        english_words --> English vocabulary from parallel corpus\n",
    "\n",
    "  OUTPUT : translated english sentence \n",
    "  \"\"\"\n",
    "  e_best = []\n",
    "  translate = {}\n",
    "  for french in test.split():\n",
    "    m = {}\n",
    "    if french not in foreign_words:\n",
    "        translate[('<OOV>',french)] = 0.0\n",
    "        e_best.append('<OOV>')\n",
    "        continue\n",
    "\n",
    "    else:\n",
    "      for eng in english_words:\n",
    "        m[eng] = t[(eng,french)]\n",
    "    \n",
    "    inv_m = [(v,k) for k,v in m.items()]\n",
    "    tup = sorted(inv_m)[0]\n",
    "    e_best.append(tup[1])\n",
    "    translate[(tup[1],french)] = round(tup[0],7)\n",
    "\n",
    "  return translate , e_best"
   ]
  },
  {
   "cell_type": "code",
   "execution_count": 84,
   "metadata": {
    "colab": {
     "base_uri": "https://localhost:8080/"
    },
    "hidden": true,
    "id": "3Xxzu9GOIjph",
    "outputId": "6fc48ea3-21fe-4b09-f3c0-080bd571dacf"
   },
   "outputs": [
    {
     "name": "stdout",
     "output_type": "stream",
     "text": [
      "French Sent : ce serait la solution à adopter laquelle attirerait davantage l’attention des citoyens que la convention précédente\n",
      "English Sent : it would be the way forward it would get far more public attention than the previous convention\n"
     ]
    }
   ],
   "source": [
    "test_fr = test_data['French'].iloc[1]\n",
    "test_en = test_data['English'].iloc[1]\n",
    "print('French Sent :',test_fr)\n",
    "print('English Sent :',test_en)"
   ]
  },
  {
   "cell_type": "code",
   "execution_count": 85,
   "metadata": {
    "hidden": true,
    "id": "08ccjR0dIgFC"
   },
   "outputs": [],
   "source": [
    "trans1 = translate(test_fr,t)"
   ]
  },
  {
   "cell_type": "code",
   "execution_count": 86,
   "metadata": {
    "colab": {
     "base_uri": "https://localhost:8080/"
    },
    "hidden": true,
    "id": "aRhc_q6YZbTP",
    "outputId": "37ffc633-b918-4b20-81b0-ec190e846000"
   },
   "outputs": [
    {
     "name": "stdout",
     "output_type": "stream",
     "text": [
      "Translation is given as below:\n",
      "['ce', 'serait', 'la', 'solution', 'à', 'adopter', 'laquelle', 'attirerait', 'davantage', 'l’attention', 'des', 'citoyens', 'que', 'la', 'convention', 'précédente']  -->  ['mr', 'mr', 'thirdly', 'and', 'even', 'it', 'i', '<OOV>', 'another', 'the', 'even', 'since', 'writing', 'thirdly', 'people', 'to']\n"
     ]
    }
   ],
   "source": [
    "print(\"Translation is given as below:\")\n",
    "print(test_fr.split(),\" --> \", trans1[1])"
   ]
  },
  {
   "cell_type": "code",
   "execution_count": 87,
   "metadata": {
    "colab": {
     "base_uri": "https://localhost:8080/"
    },
    "hidden": true,
    "id": "5D_8_Z34LfG7",
    "outputId": "4dfd209e-bb3d-46c0-ebca-d3effd8f0fbb"
   },
   "outputs": [
    {
     "name": "stdout",
     "output_type": "stream",
     "text": [
      "French Sent : il y a aussi des questions verticales\n",
      "English Sent : there are also some vertical issues\n"
     ]
    }
   ],
   "source": [
    "test_fr = test_data['French'].iloc[2]\n",
    "test_en = test_data['English'].iloc[2]\n",
    "print('French Sent :',test_fr)\n",
    "print('English Sent :',test_en)"
   ]
  },
  {
   "cell_type": "code",
   "execution_count": 88,
   "metadata": {
    "hidden": true,
    "id": "jcJIdxdTm2wb"
   },
   "outputs": [],
   "source": [
    "trans2 = translate(test_fr,t)"
   ]
  },
  {
   "cell_type": "code",
   "execution_count": 89,
   "metadata": {
    "colab": {
     "base_uri": "https://localhost:8080/"
    },
    "hidden": true,
    "id": "VNWfOzWULoi7",
    "outputId": "ae5c2b40-1f51-4d0b-9a52-56ae1ac6d7e1"
   },
   "outputs": [
    {
     "name": "stdout",
     "output_type": "stream",
     "text": [
      "Translation is given as below:\n",
      "['il', 'y', 'a', 'aussi', 'des', 'questions', 'verticales']  -->  ['even', 'even', 'even', 'if', 'even', 'some', '<OOV>']\n"
     ]
    }
   ],
   "source": [
    "print(\"Translation is given as below:\")\n",
    "print(test_fr.split(),\" --> \", trans2[1])"
   ]
  },
  {
   "cell_type": "markdown",
   "metadata": {
    "hidden": true,
    "id": "vmLr54G5fWzY"
   },
   "source": [
    "This translations are not even predicting the most common words correctly."
   ]
  },
  {
   "cell_type": "markdown",
   "metadata": {
    "heading_collapsed": true,
    "id": "FQ-C7Gj5Z6Yt"
   },
   "source": [
    "## Language Models"
   ]
  },
  {
   "cell_type": "code",
   "execution_count": 90,
   "metadata": {
    "hidden": true,
    "id": "eLoNBAWrN2uR"
   },
   "outputs": [],
   "source": [
    "def N_gram(N,corpus_list):\n",
    "  \"\"\"\n",
    "  INPUT:  N = n gram number\n",
    "          corpus_list = list of sentences\n",
    "\n",
    "  OUTPUT: returns a frequency dictionary of N grams.\n",
    "  \"\"\"\n",
    "\n",
    "  N_gram = dict()\n",
    "\n",
    "  for row in corpus_list:\n",
    "    tokens = row.split()\n",
    "    for i in range(len(tokens)-N+1): # N-grams\n",
    "        try:\n",
    "            N_gram[tuple(tokens[i:i+N])] += 1\n",
    "        except:\n",
    "            N_gram[tuple(tokens[i:i+N])] = 1\n",
    "\n",
    "  return N_gram"
   ]
  },
  {
   "cell_type": "code",
   "execution_count": 91,
   "metadata": {
    "colab": {
     "base_uri": "https://localhost:8080/"
    },
    "hidden": true,
    "id": "doP9-2g-Z_G9",
    "outputId": "405ea6dc-8fe5-4e25-acdc-a64049f424ee"
   },
   "outputs": [
    {
     "name": "stdout",
     "output_type": "stream",
     "text": [
      "35637    it gave us all a chance to confront the sense ...\n",
      "24313    that is certainly the main concern raised by t...\n",
      "13144    mr president the president-in-office's speech ...\n",
      "21060    thank you mrs berger may i congratulate you on...\n",
      "44040    during the eu's budgetary review we must ensur...\n",
      "Name: English, dtype: object\n"
     ]
    }
   ],
   "source": [
    "trial = train_data['English']\n",
    "print(trial[:5])"
   ]
  },
  {
   "cell_type": "markdown",
   "metadata": {
    "heading_collapsed": true,
    "hidden": true,
    "id": "2K5W6M-HaABk"
   },
   "source": [
    "### Unigram"
   ]
  },
  {
   "cell_type": "code",
   "execution_count": 92,
   "metadata": {
    "hidden": true,
    "id": "9c-vKgiRZIRp"
   },
   "outputs": [],
   "source": [
    "uni_gram = N_gram(1,trial)\n",
    "uni_gram_dict = sorted(uni_gram.items(), key=lambda item : item[1], reverse=True)"
   ]
  },
  {
   "cell_type": "code",
   "execution_count": 93,
   "metadata": {
    "colab": {
     "base_uri": "https://localhost:8080/"
    },
    "hidden": true,
    "id": "QqkJQ389ZPtf",
    "outputId": "606c849f-c152-4369-f3dc-d4a16f91c52a"
   },
   "outputs": [
    {
     "data": {
      "text/plain": [
       "3842"
      ]
     },
     "execution_count": 93,
     "metadata": {
      "tags": []
     },
     "output_type": "execute_result"
    }
   ],
   "source": [
    "len(uni_gram)"
   ]
  },
  {
   "cell_type": "code",
   "execution_count": 94,
   "metadata": {
    "colab": {
     "base_uri": "https://localhost:8080/",
     "height": 204
    },
    "hidden": true,
    "id": "mSq0PTI9uvuU",
    "outputId": "41af0f76-c296-4b94-a24d-84ccb4c42af1"
   },
   "outputs": [
    {
     "data": {
      "text/html": [
       "<div>\n",
       "<style scoped>\n",
       "    .dataframe tbody tr th:only-of-type {\n",
       "        vertical-align: middle;\n",
       "    }\n",
       "\n",
       "    .dataframe tbody tr th {\n",
       "        vertical-align: top;\n",
       "    }\n",
       "\n",
       "    .dataframe thead th {\n",
       "        text-align: right;\n",
       "    }\n",
       "</style>\n",
       "<table border=\"1\" class=\"dataframe\">\n",
       "  <thead>\n",
       "    <tr style=\"text-align: right;\">\n",
       "      <th></th>\n",
       "      <th>Uni Gram</th>\n",
       "      <th>Count</th>\n",
       "    </tr>\n",
       "  </thead>\n",
       "  <tbody>\n",
       "    <tr>\n",
       "      <th>0</th>\n",
       "      <td>(the,)</td>\n",
       "      <td>1539</td>\n",
       "    </tr>\n",
       "    <tr>\n",
       "      <th>1</th>\n",
       "      <td>(of,)</td>\n",
       "      <td>722</td>\n",
       "    </tr>\n",
       "    <tr>\n",
       "      <th>2</th>\n",
       "      <td>(to,)</td>\n",
       "      <td>700</td>\n",
       "    </tr>\n",
       "    <tr>\n",
       "      <th>3</th>\n",
       "      <td>(and,)</td>\n",
       "      <td>570</td>\n",
       "    </tr>\n",
       "    <tr>\n",
       "      <th>4</th>\n",
       "      <td>(in,)</td>\n",
       "      <td>457</td>\n",
       "    </tr>\n",
       "  </tbody>\n",
       "</table>\n",
       "</div>"
      ],
      "text/plain": [
       "  Uni Gram  Count\n",
       "0   (the,)   1539\n",
       "1    (of,)    722\n",
       "2    (to,)    700\n",
       "3   (and,)    570\n",
       "4    (in,)    457"
      ]
     },
     "execution_count": 94,
     "metadata": {
      "tags": []
     },
     "output_type": "execute_result"
    }
   ],
   "source": [
    "#uni_gram\n",
    "pd.DataFrame(uni_gram_dict,columns=('Uni Gram', 'Count')).head()"
   ]
  },
  {
   "cell_type": "markdown",
   "metadata": {
    "heading_collapsed": true,
    "hidden": true,
    "id": "vhGj3817aDg9"
   },
   "source": [
    "### Bigram"
   ]
  },
  {
   "cell_type": "code",
   "execution_count": 95,
   "metadata": {
    "hidden": true,
    "id": "4AOs2rdSOzyq"
   },
   "outputs": [],
   "source": [
    "bi_gram = N_gram(2,trial)"
   ]
  },
  {
   "cell_type": "code",
   "execution_count": 96,
   "metadata": {
    "colab": {
     "base_uri": "https://localhost:8080/"
    },
    "hidden": true,
    "id": "F19yM7zxSlIC",
    "outputId": "c549ac24-545c-4683-acd6-6128efacd967"
   },
   "outputs": [
    {
     "name": "stdout",
     "output_type": "stream",
     "text": [
      "Total length of all Bi-Grams: 13171\n"
     ]
    }
   ],
   "source": [
    "print(\"Total length of all Bi-Grams:\",len(bi_gram))"
   ]
  },
  {
   "cell_type": "code",
   "execution_count": 97,
   "metadata": {
    "hidden": true,
    "id": "skMWZi7dnv6W"
   },
   "outputs": [],
   "source": [
    "bi_gram_dict = sorted(bi_gram.items(), key = lambda item: item[1], reverse=True)"
   ]
  },
  {
   "cell_type": "code",
   "execution_count": 98,
   "metadata": {
    "colab": {
     "base_uri": "https://localhost:8080/"
    },
    "hidden": true,
    "id": "xQU5Jy2ho2OA",
    "outputId": "bc35ae65-9996-43df-ef9e-38a77b357f22"
   },
   "outputs": [
    {
     "data": {
      "text/plain": [
       "list"
      ]
     },
     "execution_count": 98,
     "metadata": {
      "tags": []
     },
     "output_type": "execute_result"
    }
   ],
   "source": [
    "type(bi_gram_dict)"
   ]
  },
  {
   "cell_type": "code",
   "execution_count": 99,
   "metadata": {
    "colab": {
     "base_uri": "https://localhost:8080/",
     "height": 204
    },
    "hidden": true,
    "id": "2Tm_bxLuod_t",
    "outputId": "394d4c91-3112-4efe-fe03-dff1b8e12bcb"
   },
   "outputs": [
    {
     "data": {
      "text/html": [
       "<div>\n",
       "<style scoped>\n",
       "    .dataframe tbody tr th:only-of-type {\n",
       "        vertical-align: middle;\n",
       "    }\n",
       "\n",
       "    .dataframe tbody tr th {\n",
       "        vertical-align: top;\n",
       "    }\n",
       "\n",
       "    .dataframe thead th {\n",
       "        text-align: right;\n",
       "    }\n",
       "</style>\n",
       "<table border=\"1\" class=\"dataframe\">\n",
       "  <thead>\n",
       "    <tr style=\"text-align: right;\">\n",
       "      <th></th>\n",
       "      <th>Bi-Gram</th>\n",
       "      <th>Counts</th>\n",
       "    </tr>\n",
       "  </thead>\n",
       "  <tbody>\n",
       "    <tr>\n",
       "      <th>0</th>\n",
       "      <td>(of, the)</td>\n",
       "      <td>221</td>\n",
       "    </tr>\n",
       "    <tr>\n",
       "      <th>1</th>\n",
       "      <td>(in, the)</td>\n",
       "      <td>123</td>\n",
       "    </tr>\n",
       "    <tr>\n",
       "      <th>2</th>\n",
       "      <td>(the, european)</td>\n",
       "      <td>87</td>\n",
       "    </tr>\n",
       "    <tr>\n",
       "      <th>3</th>\n",
       "      <td>(to, the)</td>\n",
       "      <td>84</td>\n",
       "    </tr>\n",
       "    <tr>\n",
       "      <th>4</th>\n",
       "      <td>(it, is)</td>\n",
       "      <td>76</td>\n",
       "    </tr>\n",
       "  </tbody>\n",
       "</table>\n",
       "</div>"
      ],
      "text/plain": [
       "           Bi-Gram  Counts\n",
       "0        (of, the)     221\n",
       "1        (in, the)     123\n",
       "2  (the, european)      87\n",
       "3        (to, the)      84\n",
       "4         (it, is)      76"
      ]
     },
     "execution_count": 99,
     "metadata": {
      "tags": []
     },
     "output_type": "execute_result"
    }
   ],
   "source": [
    "pd.DataFrame(bi_gram_dict, columns=('Bi-Gram','Counts')).head()"
   ]
  },
  {
   "cell_type": "code",
   "execution_count": 100,
   "metadata": {
    "hidden": true,
    "id": "mD4aNhpKeDIt"
   },
   "outputs": [],
   "source": [
    "def bigram_model(data, word,k_best = 5, V = len(english_words)):\n",
    "\n",
    "  if type(word) != str or len(word.split()) != 1:\n",
    "    return \"Either type is not 'str' or word length not 1.\"\n",
    "\n",
    "  unigram = N_gram(1,data)\n",
    "  bigram = N_gram(2,data)\n",
    "\n",
    "  next_word = {}\n",
    "\n",
    "  for k, v in bigram.items():\n",
    "    if k[0] != word:\n",
    "      continue\n",
    "\n",
    "    else:\n",
    "      prob = (v + 1)/ (unigram[(word,)] + V)\n",
    "      w2 = k[1]\n",
    "      next_word[w2] = round(prob,5)\n",
    "\n",
    "  next = sorted(next_word.items(), key=lambda item : item[1], reverse=True)\n",
    "  df = pd.DataFrame(next, columns=('Next Word', 'Probability'))\n",
    "\n",
    "  if len(next) <= k_best:\n",
    "    return df\n",
    "  else:\n",
    "    return df.head(k_best)"
   ]
  },
  {
   "cell_type": "code",
   "execution_count": 101,
   "metadata": {
    "colab": {
     "base_uri": "https://localhost:8080/",
     "height": 221
    },
    "hidden": true,
    "id": "pZipC77Sdatr",
    "outputId": "c91a6b4a-8740-4331-f0c9-f8666084f95e"
   },
   "outputs": [
    {
     "name": "stdout",
     "output_type": "stream",
     "text": [
      "Prediction of next word given the word 'all' using Bi-Gram Model:\n"
     ]
    },
    {
     "data": {
      "text/html": [
       "<div>\n",
       "<style scoped>\n",
       "    .dataframe tbody tr th:only-of-type {\n",
       "        vertical-align: middle;\n",
       "    }\n",
       "\n",
       "    .dataframe tbody tr th {\n",
       "        vertical-align: top;\n",
       "    }\n",
       "\n",
       "    .dataframe thead th {\n",
       "        text-align: right;\n",
       "    }\n",
       "</style>\n",
       "<table border=\"1\" class=\"dataframe\">\n",
       "  <thead>\n",
       "    <tr style=\"text-align: right;\">\n",
       "      <th></th>\n",
       "      <th>Next Word</th>\n",
       "      <th>Probability</th>\n",
       "    </tr>\n",
       "  </thead>\n",
       "  <tbody>\n",
       "    <tr>\n",
       "      <th>0</th>\n",
       "      <td>the</td>\n",
       "      <td>0.00308</td>\n",
       "    </tr>\n",
       "    <tr>\n",
       "      <th>1</th>\n",
       "      <td>know</td>\n",
       "      <td>0.00103</td>\n",
       "    </tr>\n",
       "    <tr>\n",
       "      <th>2</th>\n",
       "      <td>initiatives</td>\n",
       "      <td>0.00077</td>\n",
       "    </tr>\n",
       "    <tr>\n",
       "      <th>3</th>\n",
       "      <td>that</td>\n",
       "      <td>0.00077</td>\n",
       "    </tr>\n",
       "    <tr>\n",
       "      <th>4</th>\n",
       "      <td>i</td>\n",
       "      <td>0.00077</td>\n",
       "    </tr>\n",
       "  </tbody>\n",
       "</table>\n",
       "</div>"
      ],
      "text/plain": [
       "     Next Word  Probability\n",
       "0          the      0.00308\n",
       "1         know      0.00103\n",
       "2  initiatives      0.00077\n",
       "3         that      0.00077\n",
       "4            i      0.00077"
      ]
     },
     "execution_count": 101,
     "metadata": {
      "tags": []
     },
     "output_type": "execute_result"
    }
   ],
   "source": [
    "# Predict next word using Bi-Gram model\n",
    "word = 'all'\n",
    "print(\"Prediction of next word given the word '{}' using Bi-Gram Model:\".format(word))\n",
    "bigram_model(trial,word)"
   ]
  },
  {
   "cell_type": "code",
   "execution_count": 102,
   "metadata": {
    "colab": {
     "base_uri": "https://localhost:8080/",
     "height": 221
    },
    "hidden": true,
    "id": "USVCoFvzegS7",
    "outputId": "a2af6168-725b-435f-9784-1e80e2deb680"
   },
   "outputs": [
    {
     "name": "stdout",
     "output_type": "stream",
     "text": [
      "Prediction of next word given 'but' using Bi-Gram Model:\n"
     ]
    },
    {
     "data": {
      "text/html": [
       "<div>\n",
       "<style scoped>\n",
       "    .dataframe tbody tr th:only-of-type {\n",
       "        vertical-align: middle;\n",
       "    }\n",
       "\n",
       "    .dataframe tbody tr th {\n",
       "        vertical-align: top;\n",
       "    }\n",
       "\n",
       "    .dataframe thead th {\n",
       "        text-align: right;\n",
       "    }\n",
       "</style>\n",
       "<table border=\"1\" class=\"dataframe\">\n",
       "  <thead>\n",
       "    <tr style=\"text-align: right;\">\n",
       "      <th></th>\n",
       "      <th>Next Word</th>\n",
       "      <th>Probability</th>\n",
       "    </tr>\n",
       "  </thead>\n",
       "  <tbody>\n",
       "    <tr>\n",
       "      <th>0</th>\n",
       "      <td>also</td>\n",
       "      <td>0.00256</td>\n",
       "    </tr>\n",
       "    <tr>\n",
       "      <th>1</th>\n",
       "      <td>it</td>\n",
       "      <td>0.00205</td>\n",
       "    </tr>\n",
       "    <tr>\n",
       "      <th>2</th>\n",
       "      <td>we</td>\n",
       "      <td>0.00179</td>\n",
       "    </tr>\n",
       "    <tr>\n",
       "      <th>3</th>\n",
       "      <td>i</td>\n",
       "      <td>0.00153</td>\n",
       "    </tr>\n",
       "    <tr>\n",
       "      <th>4</th>\n",
       "      <td>the</td>\n",
       "      <td>0.00153</td>\n",
       "    </tr>\n",
       "  </tbody>\n",
       "</table>\n",
       "</div>"
      ],
      "text/plain": [
       "  Next Word  Probability\n",
       "0      also      0.00256\n",
       "1        it      0.00205\n",
       "2        we      0.00179\n",
       "3         i      0.00153\n",
       "4       the      0.00153"
      ]
     },
     "execution_count": 102,
     "metadata": {
      "tags": []
     },
     "output_type": "execute_result"
    }
   ],
   "source": [
    "# Predict next word using Bi-Gram model\n",
    "word = 'but'\n",
    "print(\"Prediction of next word given '{}' using Bi-Gram Model:\".format(word))\n",
    "bigram_model(trial,word)"
   ]
  },
  {
   "cell_type": "markdown",
   "metadata": {
    "heading_collapsed": true,
    "hidden": true,
    "id": "5LaRPimoa0Sw"
   },
   "source": [
    "### Trigram"
   ]
  },
  {
   "cell_type": "code",
   "execution_count": 103,
   "metadata": {
    "hidden": true,
    "id": "fq1ADiV8a5X8"
   },
   "outputs": [],
   "source": [
    "tri_gram = N_gram(3,trial)"
   ]
  },
  {
   "cell_type": "code",
   "execution_count": 104,
   "metadata": {
    "colab": {
     "base_uri": "https://localhost:8080/"
    },
    "hidden": true,
    "id": "dbXA87x2bA-y",
    "outputId": "956af055-adbf-4e29-fc74-6bfbcee03da2"
   },
   "outputs": [
    {
     "data": {
      "text/plain": [
       "17188"
      ]
     },
     "execution_count": 104,
     "metadata": {
      "tags": []
     },
     "output_type": "execute_result"
    }
   ],
   "source": [
    "len(tri_gram)"
   ]
  },
  {
   "cell_type": "code",
   "execution_count": 105,
   "metadata": {
    "hidden": true,
    "id": "du4lsbEUpxi6"
   },
   "outputs": [],
   "source": [
    "tri_gram_list = sorted(tri_gram.items(), key = lambda item: item[1], reverse=True)"
   ]
  },
  {
   "cell_type": "code",
   "execution_count": 106,
   "metadata": {
    "colab": {
     "base_uri": "https://localhost:8080/",
     "height": 204
    },
    "hidden": true,
    "id": "F06XCP8pps-q",
    "outputId": "3824c1de-3a2e-4486-b138-389422b2a789"
   },
   "outputs": [
    {
     "data": {
      "text/html": [
       "<div>\n",
       "<style scoped>\n",
       "    .dataframe tbody tr th:only-of-type {\n",
       "        vertical-align: middle;\n",
       "    }\n",
       "\n",
       "    .dataframe tbody tr th {\n",
       "        vertical-align: top;\n",
       "    }\n",
       "\n",
       "    .dataframe thead th {\n",
       "        text-align: right;\n",
       "    }\n",
       "</style>\n",
       "<table border=\"1\" class=\"dataframe\">\n",
       "  <thead>\n",
       "    <tr style=\"text-align: right;\">\n",
       "      <th></th>\n",
       "      <th>Tri-Gram</th>\n",
       "      <th>Counts</th>\n",
       "    </tr>\n",
       "  </thead>\n",
       "  <tbody>\n",
       "    <tr>\n",
       "      <th>0</th>\n",
       "      <td>(the, european, union)</td>\n",
       "      <td>32</td>\n",
       "    </tr>\n",
       "    <tr>\n",
       "      <th>1</th>\n",
       "      <td>(of, the, european)</td>\n",
       "      <td>25</td>\n",
       "    </tr>\n",
       "    <tr>\n",
       "      <th>2</th>\n",
       "      <td>(in, order, to)</td>\n",
       "      <td>18</td>\n",
       "    </tr>\n",
       "    <tr>\n",
       "      <th>3</th>\n",
       "      <td>(the, committee, on)</td>\n",
       "      <td>15</td>\n",
       "    </tr>\n",
       "    <tr>\n",
       "      <th>4</th>\n",
       "      <td>(the, member, states)</td>\n",
       "      <td>15</td>\n",
       "    </tr>\n",
       "  </tbody>\n",
       "</table>\n",
       "</div>"
      ],
      "text/plain": [
       "                 Tri-Gram  Counts\n",
       "0  (the, european, union)      32\n",
       "1     (of, the, european)      25\n",
       "2         (in, order, to)      18\n",
       "3    (the, committee, on)      15\n",
       "4   (the, member, states)      15"
      ]
     },
     "execution_count": 106,
     "metadata": {
      "tags": []
     },
     "output_type": "execute_result"
    }
   ],
   "source": [
    "pd.DataFrame(tri_gram_list, columns=('Tri-Gram','Counts')).head()"
   ]
  },
  {
   "cell_type": "code",
   "execution_count": 107,
   "metadata": {
    "hidden": true,
    "id": "xMICN8KG9GVf"
   },
   "outputs": [],
   "source": [
    "def trigram_model(data, word_list, k_best = 5, V = len(english_words)):\n",
    "\n",
    "  if type(word_list) != list or len(word_list) != 2:\n",
    "    return \"Either words type is not a 'list' or number of words not equal to 2.\"\n",
    "\n",
    "\n",
    "  bigram = N_gram(2,data)\n",
    "  trigram = N_gram(3,data)\n",
    "\n",
    "  next_word = {}\n",
    "\n",
    "  for k, v in trigram.items():\n",
    "    if (k[0],k[1]) != tuple(word_list):\n",
    "      continue\n",
    "\n",
    "    else:\n",
    "      prob = (v + 1)/ (bigram[tuple(word_list)] + V)\n",
    "      w3 = k[2]\n",
    "      next_word[w3] = round(prob,5)\n",
    "\n",
    "  next = sorted(next_word.items(), key=lambda item : item[1], reverse=True)\n",
    "  df = pd.DataFrame(next, columns=('Next Word', 'Probability'))\n",
    "\n",
    "  if len(next) <= k_best:\n",
    "    return df\n",
    "  else:\n",
    "    return df.head(k_best)"
   ]
  },
  {
   "cell_type": "code",
   "execution_count": 108,
   "metadata": {
    "colab": {
     "base_uri": "https://localhost:8080/",
     "height": 221
    },
    "hidden": true,
    "id": "9DqqFV-J_Zkv",
    "outputId": "2bb55aee-ed70-4328-82e2-7efff2a48b44"
   },
   "outputs": [
    {
     "name": "stdout",
     "output_type": "stream",
     "text": [
      "Prediction of next word given '['in', 'the']' using Tri-Gram Model:\n"
     ]
    },
    {
     "data": {
      "text/html": [
       "<div>\n",
       "<style scoped>\n",
       "    .dataframe tbody tr th:only-of-type {\n",
       "        vertical-align: middle;\n",
       "    }\n",
       "\n",
       "    .dataframe tbody tr th {\n",
       "        vertical-align: top;\n",
       "    }\n",
       "\n",
       "    .dataframe thead th {\n",
       "        text-align: right;\n",
       "    }\n",
       "</style>\n",
       "<table border=\"1\" class=\"dataframe\">\n",
       "  <thead>\n",
       "    <tr style=\"text-align: right;\">\n",
       "      <th></th>\n",
       "      <th>Next Word</th>\n",
       "      <th>Probability</th>\n",
       "    </tr>\n",
       "  </thead>\n",
       "  <tbody>\n",
       "    <tr>\n",
       "      <th>0</th>\n",
       "      <td>european</td>\n",
       "      <td>0.00227</td>\n",
       "    </tr>\n",
       "    <tr>\n",
       "      <th>1</th>\n",
       "      <td>council</td>\n",
       "      <td>0.00151</td>\n",
       "    </tr>\n",
       "    <tr>\n",
       "      <th>2</th>\n",
       "      <td>future</td>\n",
       "      <td>0.00126</td>\n",
       "    </tr>\n",
       "    <tr>\n",
       "      <th>3</th>\n",
       "      <td>world</td>\n",
       "      <td>0.00126</td>\n",
       "    </tr>\n",
       "    <tr>\n",
       "      <th>4</th>\n",
       "      <td>case</td>\n",
       "      <td>0.00101</td>\n",
       "    </tr>\n",
       "  </tbody>\n",
       "</table>\n",
       "</div>"
      ],
      "text/plain": [
       "  Next Word  Probability\n",
       "0  european      0.00227\n",
       "1   council      0.00151\n",
       "2    future      0.00126\n",
       "3     world      0.00126\n",
       "4      case      0.00101"
      ]
     },
     "execution_count": 108,
     "metadata": {
      "tags": []
     },
     "output_type": "execute_result"
    }
   ],
   "source": [
    "# Predict next likely word\n",
    "#trigram_model(['when','in'],1)\n",
    "words = ['in','the']\n",
    "print(\"Prediction of next word given '{}' using Tri-Gram Model:\".format(words))\n",
    "trigram_model(trial,words)"
   ]
  },
  {
   "cell_type": "markdown",
   "metadata": {
    "heading_collapsed": true,
    "hidden": true,
    "id": "VuPJjz8XZ8pJ"
   },
   "source": [
    "### Evaluation - Perplexity Score"
   ]
  },
  {
   "cell_type": "code",
   "execution_count": 109,
   "metadata": {
    "hidden": true,
    "id": "1wQ9Ygj3Z60L"
   },
   "outputs": [],
   "source": [
    "def perp(data,ngram = 2, V = len(english_words)):\n",
    "  N = ngram\n",
    "  n_gram = N_gram(N, data)\n",
    "  n_1_gram = N_gram(N-1, data)\n",
    "\n",
    "  PP = []\n",
    "  prob = []\n",
    "\n",
    "  for row in data:\n",
    "    tokens = row.split()\n",
    "    for i in range(len(tokens)-N+1): # N-grams\n",
    "      key = tuple(tokens[i:i+N])\n",
    "      \n",
    "      # Count if n gram\n",
    "      if key in n_gram.keys():\n",
    "        c = n_gram[key]\n",
    "      else:\n",
    "        c = 0\n",
    "\n",
    "      # Count of n-1 gram\n",
    "      if key[0] in n_1_gram.keys():\n",
    "        C = n_1_gram[key[0]]\n",
    "      else:\n",
    "        C = 0\n",
    "\n",
    "      # p(Wn|Wn-1)\n",
    "      prob.append(-1.0*log((c + 1)/(C + V)))\n",
    "\n",
    "    # Entropy\n",
    "    H = sum(prob)/len(tokens)\n",
    "\n",
    "    # Perplexity --> PP = 2^H\n",
    "    PP.append(pow(2,Decimal(H)))\n",
    "  return PP"
   ]
  },
  {
   "cell_type": "code",
   "execution_count": 110,
   "metadata": {
    "hidden": true,
    "id": "AmxGY-ZQioCF"
   },
   "outputs": [],
   "source": [
    "# Evaluation of Bi-Gram Model\n",
    "bigram_perp = perp(trial,2)"
   ]
  },
  {
   "cell_type": "code",
   "execution_count": 111,
   "metadata": {
    "colab": {
     "base_uri": "https://localhost:8080/"
    },
    "hidden": true,
    "id": "4Bhs3aNeTwop",
    "outputId": "dc248635-505d-451c-e724-57cfbb7c5ef6"
   },
   "outputs": [
    {
     "data": {
      "text/plain": [
       "800"
      ]
     },
     "execution_count": 111,
     "metadata": {
      "tags": []
     },
     "output_type": "execute_result"
    }
   ],
   "source": [
    "len(bigram_perp)"
   ]
  },
  {
   "cell_type": "code",
   "execution_count": 112,
   "metadata": {
    "colab": {
     "base_uri": "https://localhost:8080/",
     "height": 336
    },
    "hidden": true,
    "id": "eKhsEXNTUnZc",
    "outputId": "506f72bb-ef44-407d-d5e4-82943458bac0"
   },
   "outputs": [
    {
     "name": "stderr",
     "output_type": "stream",
     "text": [
      "/usr/local/lib/python3.7/dist-packages/matplotlib/ticker.py:2161: RuntimeWarning: overflow encountered in multiply\n",
      "  steps = self._extended_steps * scale\n"
     ]
    },
    {
     "data": {
      "image/png": "[encoded data removed]",
      "text/plain": [
       "<Figure size 504x288 with 1 Axes>"
      ]
     },
     "metadata": {
      "needs_background": "light",
      "tags": []
     },
     "output_type": "display_data"
    }
   ],
   "source": [
    "# Plot of perplexity for 10 iterations\n",
    "plt.figure(figsize=(7,4))\n",
    "plt.plot(range(1, len(bigram_perp) + 1), bigram_perp, linewidth=4)\n",
    "plt.xlabel('Number of Iterations')\n",
    "plt.ylabel('Perplexity')\n",
    "plt.title('Perplexity vs. iterations')\n",
    "plt.rcParams.update({'font.size': 12})"
   ]
  },
  {
   "cell_type": "code",
   "execution_count": 113,
   "metadata": {
    "colab": {
     "base_uri": "https://localhost:8080/",
     "height": 336
    },
    "hidden": true,
    "id": "HOp4b7bOT6HQ",
    "outputId": "b8f8cc6b-7eac-4525-a47a-55e5e306406f"
   },
   "outputs": [
    {
     "name": "stderr",
     "output_type": "stream",
     "text": [
      "/usr/local/lib/python3.7/dist-packages/matplotlib/ticker.py:2161: RuntimeWarning: overflow encountered in multiply\n",
      "  steps = self._extended_steps * scale\n"
     ]
    },
    {
     "data": {
      "image/png": "[encoded data removed]",
      "text/plain": [
       "<Figure size 504x288 with 1 Axes>"
      ]
     },
     "metadata": {
      "needs_background": "light",
      "tags": []
     },
     "output_type": "display_data"
    }
   ],
   "source": [
    "# Bi-Gram model Perplexity for all sentences\n",
    "plt.figure(figsize=(7,4))\n",
    "plt.plot(range(1, len(bigram_perp) + 1), bigram_perp, linewidth=4)\n",
    "plt.xlabel('Sentences')\n",
    "plt.ylabel('Perplexity of Sentence')\n",
    "plt.title('Perplexity for Bi-Gram Model')\n",
    "plt.rcParams.update({'font.size': 12})"
   ]
  },
  {
   "cell_type": "markdown",
   "metadata": {
    "hidden": true,
    "id": "qFrZ65NifreY"
   },
   "source": [
    "This models do not give translations as one might expect from it. To improve this translation model\n",
    "- It needs to be trained on entire corpus (now it was trained on `0.000516%` of data)\n",
    "- To capture the context associated with words: Phrase-based models need to be implemented.\n",
    "\n",
    "**Thank You!**"
   ]
  }
 ],
 "metadata": {
  "colab": {
   "collapsed_sections": [],
   "name": "Europarl_parallel_corpus.ipynb",
   "provenance": []
  },
  "kernelspec": {
   "display_name": "Python 3",
   "language": "python",
   "name": "python3"
  },
  "language_info": {
   "codemirror_mode": {
    "name": "ipython",
    "version": 3
   },
   "file_extension": ".py",
   "mimetype": "text/x-python",
   "name": "python",
   "nbconvert_exporter": "python",
   "pygments_lexer": "ipython3",
   "version": "3.8.8"
  },
  "latex_envs": {
   "LaTeX_envs_menu_present": true,
   "autoclose": false,
   "autocomplete": true,
   "bibliofile": "biblio.bib",
   "cite_by": "apalike",
   "current_citInitial": 1,
   "eqLabelWithNumbers": true,
   "eqNumInitial": 1,
   "hotkeys": {
    "equation": "Ctrl-E",
    "itemize": "Ctrl-I"
   },
   "labels_anchors": false,
   "latex_user_defs": false,
   "report_style_numbering": false,
   "user_envs_cfg": false
  },
  "toc": {
   "base_numbering": 1,
   "nav_menu": {},
   "number_sections": true,
   "sideBar": true,
   "skip_h1_title": false,
   "title_cell": "Table of Contents",
   "title_sidebar": "Contents",
   "toc_cell": false,
   "toc_position": {},
   "toc_section_display": true,
   "toc_window_display": false
  },
  "widgets": {
   "application/vnd.jupyter.widget-state+json": {
    "377f475bf2a644919b70b643dcbeb818": {
     "model_module": "@jupyter-widgets/base",
     "model_name": "LayoutModel",
     "state": {
      "_model_module": "@jupyter-widgets/base",
      "_model_module_version": "1.2.0",
      "_model_name": "LayoutModel",
      "_view_count": null,
      "_view_module": "@jupyter-widgets/base",
      "_view_module_version": "1.2.0",
      "_view_name": "LayoutView",
      "align_content": null,
      "align_items": null,
      "align_self": null,
      "border": null,
      "bottom": null,
      "display": null,
      "flex": null,
      "flex_flow": null,
      "grid_area": null,
      "grid_auto_columns": null,
      "grid_auto_flow": null,
      "grid_auto_rows": null,
      "grid_column": null,
      "grid_gap": null,
      "grid_row": null,
      "grid_template_areas": null,
      "grid_template_columns": null,
      "grid_template_rows": null,
      "height": null,
      "justify_content": null,
      "justify_items": null,
      "left": null,
      "margin": null,
      "max_height": null,
      "max_width": null,
      "min_height": null,
      "min_width": null,
      "object_fit": null,
      "object_position": null,
      "order": null,
      "overflow": null,
      "overflow_x": null,
      "overflow_y": null,
      "padding": null,
      "right": null,
      "top": null,
      "visibility": null,
      "width": null
     }
    },
    "45617b6b51164534b8a63d526c84761e": {
     "model_module": "@jupyter-widgets/controls",
     "model_name": "HBoxModel",
     "state": {
      "_dom_classes": [],
      "_model_module": "@jupyter-widgets/controls",
      "_model_module_version": "1.5.0",
      "_model_name": "HBoxModel",
      "_view_count": null,
      "_view_module": "@jupyter-widgets/controls",
      "_view_module_version": "1.5.0",
      "_view_name": "HBoxView",
      "box_style": "",
      "children": [
       "IPY_MODEL_551a256a3e0c462baf6875f96078a61e",
       "IPY_MODEL_d9a65628c7644e49a687a616244a71d8"
      ],
      "layout": "IPY_MODEL_dfb85387c357440f9306f4d1e964feaf"
     }
    },
    "551a256a3e0c462baf6875f96078a61e": {
     "model_module": "@jupyter-widgets/controls",
     "model_name": "FloatProgressModel",
     "state": {
      "_dom_classes": [],
      "_model_module": "@jupyter-widgets/controls",
      "_model_module_version": "1.5.0",
      "_model_name": "FloatProgressModel",
      "_view_count": null,
      "_view_module": "@jupyter-widgets/controls",
      "_view_module_version": "1.5.0",
      "_view_name": "ProgressView",
      "bar_style": "success",
      "description": "100%",
      "description_tooltip": null,
      "layout": "IPY_MODEL_bf27f46cf6ce4540a8f8e72cdf27f069",
      "max": 10,
      "min": 0,
      "orientation": "horizontal",
      "style": "IPY_MODEL_ab470686789944e8a411c63494e0e65f",
      "value": 10
     }
    },
    "a4f1210939f54605aa73160717b672d7": {
     "model_module": "@jupyter-widgets/controls",
     "model_name": "DescriptionStyleModel",
     "state": {
      "_model_module": "@jupyter-widgets/controls",
      "_model_module_version": "1.5.0",
      "_model_name": "DescriptionStyleModel",
      "_view_count": null,
      "_view_module": "@jupyter-widgets/base",
      "_view_module_version": "1.2.0",
      "_view_name": "StyleView",
      "description_width": ""
     }
    },
    "ab470686789944e8a411c63494e0e65f": {
     "model_module": "@jupyter-widgets/controls",
     "model_name": "ProgressStyleModel",
     "state": {
      "_model_module": "@jupyter-widgets/controls",
      "_model_module_version": "1.5.0",
      "_model_name": "ProgressStyleModel",
      "_view_count": null,
      "_view_module": "@jupyter-widgets/base",
      "_view_module_version": "1.2.0",
      "_view_name": "StyleView",
      "bar_color": null,
      "description_width": "initial"
     }
    },
    "bf27f46cf6ce4540a8f8e72cdf27f069": {
     "model_module": "@jupyter-widgets/base",
     "model_name": "LayoutModel",
     "state": {
      "_model_module": "@jupyter-widgets/base",
      "_model_module_version": "1.2.0",
      "_model_name": "LayoutModel",
      "_view_count": null,
      "_view_module": "@jupyter-widgets/base",
      "_view_module_version": "1.2.0",
      "_view_name": "LayoutView",
      "align_content": null,
      "align_items": null,
      "align_self": null,
      "border": null,
      "bottom": null,
      "display": null,
      "flex": null,
      "flex_flow": null,
      "grid_area": null,
      "grid_auto_columns": null,
      "grid_auto_flow": null,
      "grid_auto_rows": null,
      "grid_column": null,
      "grid_gap": null,
      "grid_row": null,
      "grid_template_areas": null,
      "grid_template_columns": null,
      "grid_template_rows": null,
      "height": null,
      "justify_content": null,
      "justify_items": null,
      "left": null,
      "margin": null,
      "max_height": null,
      "max_width": null,
      "min_height": null,
      "min_width": null,
      "object_fit": null,
      "object_position": null,
      "order": null,
      "overflow": null,
      "overflow_x": null,
      "overflow_y": null,
      "padding": null,
      "right": null,
      "top": null,
      "visibility": null,
      "width": null
     }
    },
    "d9a65628c7644e49a687a616244a71d8": {
     "model_module": "@jupyter-widgets/controls",
     "model_name": "HTMLModel",
     "state": {
      "_dom_classes": [],
      "_model_module": "@jupyter-widgets/controls",
      "_model_module_version": "1.5.0",
      "_model_name": "HTMLModel",
      "_view_count": null,
      "_view_module": "@jupyter-widgets/controls",
      "_view_module_version": "1.5.0",
      "_view_name": "HTMLView",
      "description": "",
      "description_tooltip": null,
      "layout": "IPY_MODEL_377f475bf2a644919b70b643dcbeb818",
      "placeholder": "​",
      "style": "IPY_MODEL_a4f1210939f54605aa73160717b672d7",
      "value": " 10/10 [01:59&lt;00:00, 11.93s/epoch]"
     }
    },
    "dfb85387c357440f9306f4d1e964feaf": {
     "model_module": "@jupyter-widgets/base",
     "model_name": "LayoutModel",
     "state": {
      "_model_module": "@jupyter-widgets/base",
      "_model_module_version": "1.2.0",
      "_model_name": "LayoutModel",
      "_view_count": null,
      "_view_module": "@jupyter-widgets/base",
      "_view_module_version": "1.2.0",
      "_view_name": "LayoutView",
      "align_content": null,
      "align_items": null,
      "align_self": null,
      "border": null,
      "bottom": null,
      "display": null,
      "flex": null,
      "flex_flow": null,
      "grid_area": null,
      "grid_auto_columns": null,
      "grid_auto_flow": null,
      "grid_auto_rows": null,
      "grid_column": null,
      "grid_gap": null,
      "grid_row": null,
      "grid_template_areas": null,
      "grid_template_columns": null,
      "grid_template_rows": null,
      "height": null,
      "justify_content": null,
      "justify_items": null,
      "left": null,
      "margin": null,
      "max_height": null,
      "max_width": null,
      "min_height": null,
      "min_width": null,
      "object_fit": null,
      "object_position": null,
      "order": null,
      "overflow": null,
      "overflow_x": null,
      "overflow_y": null,
      "padding": null,
      "right": null,
      "top": null,
      "visibility": null,
      "width": null
     }
    }
   }
  }
 },
 "nbformat": 4,
 "nbformat_minor": 1
}
